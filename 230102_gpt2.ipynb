{
 "cells": [
  {
   "cell_type": "code",
   "execution_count": 1,
   "id": "bb56bdf2",
   "metadata": {},
   "outputs": [],
   "source": [
    "import pandas as pd"
   ]
  },
  {
   "cell_type": "code",
   "execution_count": 2,
   "id": "ddda4e12",
   "metadata": {},
   "outputs": [],
   "source": [
    "df1 = pd.read_csv('./0530학습용_종목품명.csv')"
   ]
  },
  {
   "cell_type": "code",
   "execution_count": 3,
   "id": "459a1f28",
   "metadata": {},
   "outputs": [],
   "source": [
    "num_account = {}\n",
    "num_account_inverse = {}\n",
    "for i, class_ in enumerate(df1['상대계정'].unique()):\n",
    "    num_account[i] = class_\n",
    "    num_account_inverse[class_] = i"
   ]
  },
  {
   "cell_type": "code",
   "execution_count": 4,
   "id": "b489b702",
   "metadata": {},
   "outputs": [
    {
     "data": {
      "text/plain": [
       "44"
      ]
     },
     "execution_count": 4,
     "metadata": {},
     "output_type": "execute_result"
    }
   ],
   "source": [
    "len(num_account) # 44개의 classification class"
   ]
  },
  {
   "cell_type": "code",
   "execution_count": 5,
   "id": "c8565742",
   "metadata": {},
   "outputs": [],
   "source": [
    "import os\n",
    "import random\n",
    "import numpy as np\n",
    "import pandas as pd\n",
    "import torch\n",
    "from torch.utils.data import Dataset, DataLoader\n",
    "from torch.utils.data.sampler import SubsetRandomSampler\n",
    "from transformers import GPT2Tokenizer, GPT2ForSequenceClassification, GPT2Config\n",
    "from torch.optim import Adam\n",
    "import torch.nn.functional as F"
   ]
  },
  {
   "cell_type": "code",
   "execution_count": 6,
   "id": "444518b9",
   "metadata": {},
   "outputs": [],
   "source": [
    "os.environ[\"CUDA_DEVICE_ORDER\"] = \"PCI_BUS_ID\"\n",
    "os.environ[\"CUDA_VISIBLE_DEVICES\"] = \"1\""
   ]
  },
  {
   "cell_type": "code",
   "execution_count": 7,
   "id": "010af741",
   "metadata": {},
   "outputs": [],
   "source": [
    "class CustomDataset(Dataset):\n",
    "    def __init__(self, df):\n",
    "        self.df = df\n",
    "    \n",
    "    def __getitem__(self, idx):\n",
    "        text = str(self.df.iloc[idx, 4])\n",
    "        label = self.df.iloc[idx, 5]\n",
    "        return text, label\n",
    "    \n",
    "    def __len__(self):\n",
    "        return len(self.df)"
   ]
  },
  {
   "cell_type": "code",
   "execution_count": 8,
   "id": "caed810e",
   "metadata": {},
   "outputs": [],
   "source": [
    "dataset_size = len(df1)\n",
    "validation_split = .2\n",
    "shuffle_dataset = True\n",
    "indices = list(range(dataset_size))\n",
    "split = int(np.floor(validation_split * dataset_size))"
   ]
  },
  {
   "cell_type": "code",
   "execution_count": 9,
   "id": "4bc1b99d",
   "metadata": {},
   "outputs": [],
   "source": [
    "if shuffle_dataset:    \n",
    "    np.random.shuffle(indices)"
   ]
  },
  {
   "cell_type": "code",
   "execution_count": 10,
   "id": "d0c1e9d6",
   "metadata": {},
   "outputs": [],
   "source": [
    "def seed_everything(seed: int = 42):\n",
    "    random.seed(seed)\n",
    "    np.random.seed(seed)\n",
    "    os.environ[\"PYTHONHASHSEED\"] = str(seed)\n",
    "    torch.manual_seed(seed)\n",
    "    torch.cuda.manual_seed(seed)  # type: ignore\n",
    "    torch.backends.cudnn.deterministic = True  # type: ignore\n",
    "    torch.backends.cudnn.benchmark = True  # type: ignore\n",
    "seed_everything()"
   ]
  },
  {
   "cell_type": "code",
   "execution_count": 11,
   "id": "c21e04ee",
   "metadata": {},
   "outputs": [],
   "source": [
    "dataset_train = CustomDataset(df1)\n",
    "dataset_test = CustomDataset(df1)\n",
    "\n",
    "train_indices, val_indices = indices[split:], indices[:split]\n",
    "train_sampler = SubsetRandomSampler(train_indices)\n",
    "val_sampler = SubsetRandomSampler(val_indices)\n",
    "\n",
    "train_loader = torch.utils.data.DataLoader(dataset_train, batch_size=16, sampler = train_sampler, num_workers=1)\n",
    "# val_loader = torch.utils.data.DataLoader(dataset_test, batch_size=8, sampler = val_sampler, num_workers=1)\n",
    "\n",
    "# train_size = int(0.8 * len(dataset))\n",
    "# test_size = len(dataset) - train_size\n",
    "# train_dataset, test_dataset = torch.utils.data.random_split(dataset, [train_size, test_size])\n",
    "# train_loader = torch.utils.data.DataLoader(train_dataset, batch_size=1,shuffle = True)\n",
    "# validation_loader = torch.utils.data.DataLoader(test_dataset, batch_size=1,shuffle = False, num_workers=1)"
   ]
  },
  {
   "cell_type": "code",
   "execution_count": 12,
   "id": "019c4579",
   "metadata": {},
   "outputs": [
    {
     "data": {
      "text/plain": [
       "True"
      ]
     },
     "execution_count": 12,
     "metadata": {},
     "output_type": "execute_result"
    }
   ],
   "source": [
    "torch.cuda.is_available()"
   ]
  },
  {
   "cell_type": "code",
   "execution_count": 13,
   "id": "9d7a82c7",
   "metadata": {},
   "outputs": [
    {
     "name": "stderr",
     "output_type": "stream",
     "text": [
      "Some weights of GPT2ForSequenceClassification were not initialized from the model checkpoint at gpt2 and are newly initialized: ['score.weight']\n",
      "You should probably TRAIN this model on a down-stream task to be able to use it for predictions and inference.\n"
     ]
    },
    {
     "data": {
      "text/plain": [
       "GPT2ForSequenceClassification(\n",
       "  (transformer): GPT2Model(\n",
       "    (wte): Embedding(50257, 768)\n",
       "    (wpe): Embedding(1024, 768)\n",
       "    (drop): Dropout(p=0.1, inplace=False)\n",
       "    (h): ModuleList(\n",
       "      (0): GPT2Block(\n",
       "        (ln_1): LayerNorm((768,), eps=1e-05, elementwise_affine=True)\n",
       "        (attn): GPT2Attention(\n",
       "          (c_attn): Conv1D()\n",
       "          (c_proj): Conv1D()\n",
       "          (attn_dropout): Dropout(p=0.1, inplace=False)\n",
       "          (resid_dropout): Dropout(p=0.1, inplace=False)\n",
       "        )\n",
       "        (ln_2): LayerNorm((768,), eps=1e-05, elementwise_affine=True)\n",
       "        (mlp): GPT2MLP(\n",
       "          (c_fc): Conv1D()\n",
       "          (c_proj): Conv1D()\n",
       "          (act): NewGELUActivation()\n",
       "          (dropout): Dropout(p=0.1, inplace=False)\n",
       "        )\n",
       "      )\n",
       "      (1): GPT2Block(\n",
       "        (ln_1): LayerNorm((768,), eps=1e-05, elementwise_affine=True)\n",
       "        (attn): GPT2Attention(\n",
       "          (c_attn): Conv1D()\n",
       "          (c_proj): Conv1D()\n",
       "          (attn_dropout): Dropout(p=0.1, inplace=False)\n",
       "          (resid_dropout): Dropout(p=0.1, inplace=False)\n",
       "        )\n",
       "        (ln_2): LayerNorm((768,), eps=1e-05, elementwise_affine=True)\n",
       "        (mlp): GPT2MLP(\n",
       "          (c_fc): Conv1D()\n",
       "          (c_proj): Conv1D()\n",
       "          (act): NewGELUActivation()\n",
       "          (dropout): Dropout(p=0.1, inplace=False)\n",
       "        )\n",
       "      )\n",
       "      (2): GPT2Block(\n",
       "        (ln_1): LayerNorm((768,), eps=1e-05, elementwise_affine=True)\n",
       "        (attn): GPT2Attention(\n",
       "          (c_attn): Conv1D()\n",
       "          (c_proj): Conv1D()\n",
       "          (attn_dropout): Dropout(p=0.1, inplace=False)\n",
       "          (resid_dropout): Dropout(p=0.1, inplace=False)\n",
       "        )\n",
       "        (ln_2): LayerNorm((768,), eps=1e-05, elementwise_affine=True)\n",
       "        (mlp): GPT2MLP(\n",
       "          (c_fc): Conv1D()\n",
       "          (c_proj): Conv1D()\n",
       "          (act): NewGELUActivation()\n",
       "          (dropout): Dropout(p=0.1, inplace=False)\n",
       "        )\n",
       "      )\n",
       "      (3): GPT2Block(\n",
       "        (ln_1): LayerNorm((768,), eps=1e-05, elementwise_affine=True)\n",
       "        (attn): GPT2Attention(\n",
       "          (c_attn): Conv1D()\n",
       "          (c_proj): Conv1D()\n",
       "          (attn_dropout): Dropout(p=0.1, inplace=False)\n",
       "          (resid_dropout): Dropout(p=0.1, inplace=False)\n",
       "        )\n",
       "        (ln_2): LayerNorm((768,), eps=1e-05, elementwise_affine=True)\n",
       "        (mlp): GPT2MLP(\n",
       "          (c_fc): Conv1D()\n",
       "          (c_proj): Conv1D()\n",
       "          (act): NewGELUActivation()\n",
       "          (dropout): Dropout(p=0.1, inplace=False)\n",
       "        )\n",
       "      )\n",
       "      (4): GPT2Block(\n",
       "        (ln_1): LayerNorm((768,), eps=1e-05, elementwise_affine=True)\n",
       "        (attn): GPT2Attention(\n",
       "          (c_attn): Conv1D()\n",
       "          (c_proj): Conv1D()\n",
       "          (attn_dropout): Dropout(p=0.1, inplace=False)\n",
       "          (resid_dropout): Dropout(p=0.1, inplace=False)\n",
       "        )\n",
       "        (ln_2): LayerNorm((768,), eps=1e-05, elementwise_affine=True)\n",
       "        (mlp): GPT2MLP(\n",
       "          (c_fc): Conv1D()\n",
       "          (c_proj): Conv1D()\n",
       "          (act): NewGELUActivation()\n",
       "          (dropout): Dropout(p=0.1, inplace=False)\n",
       "        )\n",
       "      )\n",
       "      (5): GPT2Block(\n",
       "        (ln_1): LayerNorm((768,), eps=1e-05, elementwise_affine=True)\n",
       "        (attn): GPT2Attention(\n",
       "          (c_attn): Conv1D()\n",
       "          (c_proj): Conv1D()\n",
       "          (attn_dropout): Dropout(p=0.1, inplace=False)\n",
       "          (resid_dropout): Dropout(p=0.1, inplace=False)\n",
       "        )\n",
       "        (ln_2): LayerNorm((768,), eps=1e-05, elementwise_affine=True)\n",
       "        (mlp): GPT2MLP(\n",
       "          (c_fc): Conv1D()\n",
       "          (c_proj): Conv1D()\n",
       "          (act): NewGELUActivation()\n",
       "          (dropout): Dropout(p=0.1, inplace=False)\n",
       "        )\n",
       "      )\n",
       "      (6): GPT2Block(\n",
       "        (ln_1): LayerNorm((768,), eps=1e-05, elementwise_affine=True)\n",
       "        (attn): GPT2Attention(\n",
       "          (c_attn): Conv1D()\n",
       "          (c_proj): Conv1D()\n",
       "          (attn_dropout): Dropout(p=0.1, inplace=False)\n",
       "          (resid_dropout): Dropout(p=0.1, inplace=False)\n",
       "        )\n",
       "        (ln_2): LayerNorm((768,), eps=1e-05, elementwise_affine=True)\n",
       "        (mlp): GPT2MLP(\n",
       "          (c_fc): Conv1D()\n",
       "          (c_proj): Conv1D()\n",
       "          (act): NewGELUActivation()\n",
       "          (dropout): Dropout(p=0.1, inplace=False)\n",
       "        )\n",
       "      )\n",
       "      (7): GPT2Block(\n",
       "        (ln_1): LayerNorm((768,), eps=1e-05, elementwise_affine=True)\n",
       "        (attn): GPT2Attention(\n",
       "          (c_attn): Conv1D()\n",
       "          (c_proj): Conv1D()\n",
       "          (attn_dropout): Dropout(p=0.1, inplace=False)\n",
       "          (resid_dropout): Dropout(p=0.1, inplace=False)\n",
       "        )\n",
       "        (ln_2): LayerNorm((768,), eps=1e-05, elementwise_affine=True)\n",
       "        (mlp): GPT2MLP(\n",
       "          (c_fc): Conv1D()\n",
       "          (c_proj): Conv1D()\n",
       "          (act): NewGELUActivation()\n",
       "          (dropout): Dropout(p=0.1, inplace=False)\n",
       "        )\n",
       "      )\n",
       "      (8): GPT2Block(\n",
       "        (ln_1): LayerNorm((768,), eps=1e-05, elementwise_affine=True)\n",
       "        (attn): GPT2Attention(\n",
       "          (c_attn): Conv1D()\n",
       "          (c_proj): Conv1D()\n",
       "          (attn_dropout): Dropout(p=0.1, inplace=False)\n",
       "          (resid_dropout): Dropout(p=0.1, inplace=False)\n",
       "        )\n",
       "        (ln_2): LayerNorm((768,), eps=1e-05, elementwise_affine=True)\n",
       "        (mlp): GPT2MLP(\n",
       "          (c_fc): Conv1D()\n",
       "          (c_proj): Conv1D()\n",
       "          (act): NewGELUActivation()\n",
       "          (dropout): Dropout(p=0.1, inplace=False)\n",
       "        )\n",
       "      )\n",
       "      (9): GPT2Block(\n",
       "        (ln_1): LayerNorm((768,), eps=1e-05, elementwise_affine=True)\n",
       "        (attn): GPT2Attention(\n",
       "          (c_attn): Conv1D()\n",
       "          (c_proj): Conv1D()\n",
       "          (attn_dropout): Dropout(p=0.1, inplace=False)\n",
       "          (resid_dropout): Dropout(p=0.1, inplace=False)\n",
       "        )\n",
       "        (ln_2): LayerNorm((768,), eps=1e-05, elementwise_affine=True)\n",
       "        (mlp): GPT2MLP(\n",
       "          (c_fc): Conv1D()\n",
       "          (c_proj): Conv1D()\n",
       "          (act): NewGELUActivation()\n",
       "          (dropout): Dropout(p=0.1, inplace=False)\n",
       "        )\n",
       "      )\n",
       "      (10): GPT2Block(\n",
       "        (ln_1): LayerNorm((768,), eps=1e-05, elementwise_affine=True)\n",
       "        (attn): GPT2Attention(\n",
       "          (c_attn): Conv1D()\n",
       "          (c_proj): Conv1D()\n",
       "          (attn_dropout): Dropout(p=0.1, inplace=False)\n",
       "          (resid_dropout): Dropout(p=0.1, inplace=False)\n",
       "        )\n",
       "        (ln_2): LayerNorm((768,), eps=1e-05, elementwise_affine=True)\n",
       "        (mlp): GPT2MLP(\n",
       "          (c_fc): Conv1D()\n",
       "          (c_proj): Conv1D()\n",
       "          (act): NewGELUActivation()\n",
       "          (dropout): Dropout(p=0.1, inplace=False)\n",
       "        )\n",
       "      )\n",
       "      (11): GPT2Block(\n",
       "        (ln_1): LayerNorm((768,), eps=1e-05, elementwise_affine=True)\n",
       "        (attn): GPT2Attention(\n",
       "          (c_attn): Conv1D()\n",
       "          (c_proj): Conv1D()\n",
       "          (attn_dropout): Dropout(p=0.1, inplace=False)\n",
       "          (resid_dropout): Dropout(p=0.1, inplace=False)\n",
       "        )\n",
       "        (ln_2): LayerNorm((768,), eps=1e-05, elementwise_affine=True)\n",
       "        (mlp): GPT2MLP(\n",
       "          (c_fc): Conv1D()\n",
       "          (c_proj): Conv1D()\n",
       "          (act): NewGELUActivation()\n",
       "          (dropout): Dropout(p=0.1, inplace=False)\n",
       "        )\n",
       "      )\n",
       "    )\n",
       "    (ln_f): LayerNorm((768,), eps=1e-05, elementwise_affine=True)\n",
       "  )\n",
       "  (score): Linear(in_features=768, out_features=44, bias=False)\n",
       ")"
      ]
     },
     "execution_count": 13,
     "metadata": {},
     "output_type": "execute_result"
    }
   ],
   "source": [
    "device = torch.device(\"cuda\")\n",
    "model_config = GPT2Config.from_pretrained('gpt2', num_labels=44)\n",
    "tokenizer = GPT2Tokenizer.from_pretrained('gpt2')\n",
    "model = GPT2ForSequenceClassification.from_pretrained('gpt2', config = model_config)\n",
    "\n",
    "# resize model embedding to match new tokenizer\n",
    "model.resize_token_embeddings(len(tokenizer))\n",
    "\n",
    "# fix model padding token id\n",
    "model.config.pad_token_id = model.config.eos_token_id\n",
    "\n",
    "model.to(device)"
   ]
  },
  {
   "cell_type": "code",
   "execution_count": 14,
   "id": "4fad1d02",
   "metadata": {},
   "outputs": [],
   "source": [
    "save_path = \"./gpt2_classcode_44_230102_5e5_e4.pth\""
   ]
  },
  {
   "cell_type": "code",
   "execution_count": 15,
   "id": "f682ea49",
   "metadata": {},
   "outputs": [],
   "source": [
    "from tqdm import tqdm"
   ]
  },
  {
   "cell_type": "code",
   "execution_count": 16,
   "id": "4c6f4717",
   "metadata": {},
   "outputs": [
    {
     "name": "stderr",
     "output_type": "stream",
     "text": [
      "  0%|                                                     | 0/4 [00:00<?, ?it/s]/home/r320/anaconda3/envs/nlp/lib/python3.7/site-packages/ipykernel_launcher.py:24: UserWarning: To copy construct from a tensor, it is recommended to use sourceTensor.clone().detach() or sourceTensor.clone().detach().requires_grad_(True), rather than torch.tensor(sourceTensor).\n",
      "/home/r320/anaconda3/envs/nlp/lib/python3.7/site-packages/ipykernel_launcher.py:28: UserWarning: Implicit dimension choice for softmax has been deprecated. Change the call to include dim=X as an argument.\n"
     ]
    },
    {
     "name": "stdout",
     "output_type": "stream",
     "text": [
      "[Epoch 1/4] Iteration 100 -> Train Loss: 2.9863, Accuracy: 0.216\n",
      "[Epoch 1/4] Iteration 200 -> Train Loss: 2.4675, Accuracy: 0.346\n",
      "[Epoch 1/4] Iteration 300 -> Train Loss: 1.8632, Accuracy: 0.535\n",
      "[Epoch 1/4] Iteration 400 -> Train Loss: 1.4862, Accuracy: 0.634\n",
      "[Epoch 1/4] Iteration 500 -> Train Loss: 1.2486, Accuracy: 0.689\n",
      "[Epoch 1/4] Iteration 600 -> Train Loss: 1.1217, Accuracy: 0.705\n",
      "[Epoch 1/4] Iteration 700 -> Train Loss: 0.9874, Accuracy: 0.753\n",
      "[Epoch 1/4] Iteration 800 -> Train Loss: 0.8518, Accuracy: 0.785\n",
      "[Epoch 1/4] Iteration 900 -> Train Loss: 0.7573, Accuracy: 0.802\n",
      "[Epoch 1/4] Iteration 1000 -> Train Loss: 0.7710, Accuracy: 0.799\n",
      "[Epoch 1/4] Iteration 1100 -> Train Loss: 0.7297, Accuracy: 0.816\n"
     ]
    },
    {
     "name": "stderr",
     "output_type": "stream",
     "text": [
      "\r",
      " 25%|███████████                                 | 1/4 [06:55<20:45, 415.10s/it]"
     ]
    },
    {
     "name": "stdout",
     "output_type": "stream",
     "text": [
      "[Epoch 2/4] Iteration 1200 -> Train Loss: 0.5623, Accuracy: 0.863\n",
      "[Epoch 2/4] Iteration 1300 -> Train Loss: 0.5057, Accuracy: 0.863\n",
      "[Epoch 2/4] Iteration 1400 -> Train Loss: 0.4919, Accuracy: 0.876\n",
      "[Epoch 2/4] Iteration 1500 -> Train Loss: 0.4628, Accuracy: 0.868\n",
      "[Epoch 2/4] Iteration 1600 -> Train Loss: 0.4795, Accuracy: 0.873\n",
      "[Epoch 2/4] Iteration 1700 -> Train Loss: 0.4460, Accuracy: 0.876\n",
      "[Epoch 2/4] Iteration 1800 -> Train Loss: 0.4554, Accuracy: 0.873\n",
      "[Epoch 2/4] Iteration 1900 -> Train Loss: 0.4046, Accuracy: 0.889\n",
      "[Epoch 2/4] Iteration 2000 -> Train Loss: 0.4509, Accuracy: 0.873\n",
      "[Epoch 2/4] Iteration 2100 -> Train Loss: 0.4485, Accuracy: 0.885\n",
      "[Epoch 2/4] Iteration 2200 -> Train Loss: 0.4250, Accuracy: 0.883\n",
      "[Epoch 2/4] Iteration 2300 -> Train Loss: 0.4214, Accuracy: 0.889\n"
     ]
    },
    {
     "name": "stderr",
     "output_type": "stream",
     "text": [
      "\r",
      " 50%|██████████████████████                      | 2/4 [13:51<13:51, 415.95s/it]"
     ]
    },
    {
     "name": "stdout",
     "output_type": "stream",
     "text": [
      "[Epoch 3/4] Iteration 2400 -> Train Loss: 0.3587, Accuracy: 0.904\n",
      "[Epoch 3/4] Iteration 2500 -> Train Loss: 0.2988, Accuracy: 0.915\n",
      "[Epoch 3/4] Iteration 2600 -> Train Loss: 0.2925, Accuracy: 0.917\n",
      "[Epoch 3/4] Iteration 2700 -> Train Loss: 0.3410, Accuracy: 0.902\n",
      "[Epoch 3/4] Iteration 2800 -> Train Loss: 0.3069, Accuracy: 0.914\n",
      "[Epoch 3/4] Iteration 2900 -> Train Loss: 0.2902, Accuracy: 0.920\n",
      "[Epoch 3/4] Iteration 3000 -> Train Loss: 0.2773, Accuracy: 0.917\n",
      "[Epoch 3/4] Iteration 3100 -> Train Loss: 0.3268, Accuracy: 0.916\n",
      "[Epoch 3/4] Iteration 3200 -> Train Loss: 0.2798, Accuracy: 0.921\n",
      "[Epoch 3/4] Iteration 3300 -> Train Loss: 0.2979, Accuracy: 0.915\n",
      "[Epoch 3/4] Iteration 3400 -> Train Loss: 0.2868, Accuracy: 0.916\n",
      "[Epoch 3/4] Iteration 3500 -> Train Loss: 0.2405, Accuracy: 0.938\n"
     ]
    },
    {
     "name": "stderr",
     "output_type": "stream",
     "text": [
      "\r",
      " 75%|█████████████████████████████████           | 3/4 [20:48<06:56, 416.16s/it]"
     ]
    },
    {
     "name": "stdout",
     "output_type": "stream",
     "text": [
      "[Epoch 4/4] Iteration 3600 -> Train Loss: 0.2806, Accuracy: 0.922\n",
      "[Epoch 4/4] Iteration 3700 -> Train Loss: 0.2205, Accuracy: 0.934\n",
      "[Epoch 4/4] Iteration 3800 -> Train Loss: 0.2438, Accuracy: 0.929\n",
      "[Epoch 4/4] Iteration 3900 -> Train Loss: 0.2345, Accuracy: 0.932\n",
      "[Epoch 4/4] Iteration 4000 -> Train Loss: 0.2109, Accuracy: 0.934\n",
      "[Epoch 4/4] Iteration 4100 -> Train Loss: 0.1904, Accuracy: 0.939\n",
      "[Epoch 4/4] Iteration 4200 -> Train Loss: 0.2181, Accuracy: 0.939\n",
      "[Epoch 4/4] Iteration 4300 -> Train Loss: 0.2308, Accuracy: 0.934\n",
      "[Epoch 4/4] Iteration 4400 -> Train Loss: 0.2468, Accuracy: 0.931\n",
      "[Epoch 4/4] Iteration 4500 -> Train Loss: 0.2279, Accuracy: 0.935\n",
      "[Epoch 4/4] Iteration 4600 -> Train Loss: 0.2190, Accuracy: 0.927\n",
      "[Epoch 4/4] Iteration 4700 -> Train Loss: 0.2591, Accuracy: 0.921\n"
     ]
    },
    {
     "name": "stderr",
     "output_type": "stream",
     "text": [
      "100%|████████████████████████████████████████████| 4/4 [27:43<00:00, 415.96s/it]\n"
     ]
    }
   ],
   "source": [
    "optimizer = Adam(model.parameters(), lr=5e-5) # 1e-6\n",
    "\n",
    "itr = 1\n",
    "p_itr = 100\n",
    "epochs = 4\n",
    "total_loss = 0\n",
    "total_len = 0\n",
    "total_correct = 0\n",
    "acc_list = []\n",
    "loss_list = []\n",
    "\n",
    "model.train()\n",
    "\n",
    "for epoch in tqdm(range(epochs)):\n",
    "    \n",
    "    for text, label in train_loader:\n",
    "        optimizer.zero_grad()\n",
    "        # encoding and zero padding\n",
    "        encoded_list = [tokenizer.encode(t, add_special_tokens=True) for t in text]\n",
    "        padded_list =  [e + [0] * (512-len(e)) for e in encoded_list]\n",
    "        \n",
    "        sample = torch.tensor(padded_list)\n",
    "        sample, label = sample.to(device), label.to(device)\n",
    "        labels = torch.tensor(label)\n",
    "        outputs = model(sample, labels=labels)\n",
    "        loss, logits = outputs[:2]\n",
    "\n",
    "        pred = torch.argmax(F.softmax(logits), dim=1)\n",
    "        correct = pred.eq(labels)\n",
    "        total_correct += correct.sum().item()\n",
    "        total_len += len(labels)\n",
    "        total_loss += loss.item()\n",
    "        loss.backward()\n",
    "        optimizer.step()\n",
    "        \n",
    "        if itr % p_itr == 0:\n",
    "            print('[Epoch {}/{}] Iteration {} -> Train Loss: {:.4f}, Accuracy: {:.3f}'.format(epoch+1, epochs, itr, total_loss/p_itr, total_correct/total_len))\n",
    "            acc_list.append(total_correct/total_len)\n",
    "            loss_list.append(total_loss/p_itr)\n",
    "            total_loss = 0\n",
    "            total_len = 0\n",
    "            total_correct = 0\n",
    "        \n",
    "        itr+=1\n",
    "    #model.eval()\n",
    "    "
   ]
  },
  {
   "cell_type": "code",
   "execution_count": 17,
   "id": "fade9fb8",
   "metadata": {
    "scrolled": false
   },
   "outputs": [
    {
     "data": {
      "image/png": "[encoded data removed]",
      "text/plain": [
       "<Figure size 640x480 with 1 Axes>"
      ]
     },
     "metadata": {},
     "output_type": "display_data"
    }
   ],
   "source": [
    "from matplotlib import pyplot as plt\n",
    "\n",
    "fig = plt.figure()\n",
    "\n",
    "x = np.arange(len(acc_list))/11\n",
    "\n",
    "plt.plot(x, acc_list, label=\"Accuracy\", color='darkred')\n",
    "plt.xlabel('epochs')\n",
    "plt.ylabel('accuracy')\n",
    "plt.xlim([0, 4])\n",
    "plt.xticks([0, 1, 2, 3, 4])\n",
    "plt.title('GPT-2 accuracy per epoch')\n",
    "plt.grid(linestyle='--', color='lavender')\n",
    "# plt.show()\n",
    "plt.savefig(\"gpt2_accuracy\")"
   ]
  },
  {
   "cell_type": "code",
   "execution_count": 18,
   "id": "d57b63e5",
   "metadata": {},
   "outputs": [
    {
     "data": {
      "image/png": "[encoded data removed]",
      "text/plain": [
       "<Figure size 640x480 with 1 Axes>"
      ]
     },
     "metadata": {},
     "output_type": "display_data"
    }
   ],
   "source": [
    "fig = plt.figure()\n",
    "\n",
    "x = np.arange(len(loss_list))/11\n",
    "\n",
    "plt.plot(x, loss_list, label=\"Loss\", color='blue')\n",
    "plt.xlabel('epochs')\n",
    "plt.ylabel('Loss')\n",
    "plt.xlim([0, 4])\n",
    "plt.xticks([0, 1, 2, 3, 4])\n",
    "plt.title('GPT-2 loss per epoch')\n",
    "plt.grid(linestyle='--', color='lavender')\n",
    "# plt.show()\n",
    "plt.savefig(\"gpt2_loss\")"
   ]
  },
  {
   "cell_type": "markdown",
   "id": "2f5b00e2",
   "metadata": {},
   "source": [
    "torch.save(model.state_dict(), save_path)"
   ]
  },
  {
   "cell_type": "code",
   "execution_count": 15,
   "id": "7d347c50",
   "metadata": {},
   "outputs": [
    {
     "data": {
      "text/plain": [
       "<All keys matched successfully>"
      ]
     },
     "execution_count": 15,
     "metadata": {},
     "output_type": "execute_result"
    }
   ],
   "source": [
    "model.load_state_dict(torch.load('./gpt2_classcode_44_230102_5e5_e4.pth'))"
   ]
  },
  {
   "cell_type": "code",
   "execution_count": 16,
   "id": "d060742c",
   "metadata": {},
   "outputs": [
    {
     "name": "stderr",
     "output_type": "stream",
     "text": [
      "/home/r320/anaconda3/envs/nlp/lib/python3.7/site-packages/ipykernel_launcher.py:17: UserWarning: To copy construct from a tensor, it is recommended to use sourceTensor.clone().detach() or sourceTensor.clone().detach().requires_grad_(True), rather than torch.tensor(sourceTensor).\n",
      "  app.launch_new_instance()\n",
      "/home/r320/anaconda3/envs/nlp/lib/python3.7/site-packages/ipykernel_launcher.py:21: UserWarning: Implicit dimension choice for softmax has been deprecated. Change the call to include dim=X as an argument.\n"
     ]
    },
    {
     "name": "stdout",
     "output_type": "stream",
     "text": [
      "Test accuracy:  0.9400382734424835\n"
     ]
    }
   ],
   "source": [
    "model.eval()\n",
    "\n",
    "# eval_dataset = CustomDataset(test_df)\n",
    "# eval_loader = DataLoader(eval_dataset, batch_size=8, shuffle=False, num_workers=2)\n",
    "y = []\n",
    "y_pred = []\n",
    "\n",
    "total_loss = 0\n",
    "total_len = 0\n",
    "total_correct = 0\n",
    "\n",
    "for text, label in val_loader:\n",
    "    encoded_list = [tokenizer.encode(t, add_special_tokens=True) for t in text]\n",
    "    padded_list =  [e + [0] * (512-len(e)) for e in encoded_list]\n",
    "    sample = torch.tensor(padded_list)\n",
    "    sample, label = sample.to(device), label.to(device)\n",
    "    labels = torch.tensor(label)\n",
    "    outputs = model(sample, labels=labels)\n",
    "    _, logits = outputs[:2]\n",
    "\n",
    "    pred = torch.argmax(F.softmax(logits), dim=1)\n",
    "    y_pred.append(pred)\n",
    "    y.append(labels)\n",
    "    correct = pred.eq(labels)\n",
    "    total_correct += correct.sum().item()\n",
    "    total_len += len(labels)\n",
    "\n",
    "print('Test accuracy: ', total_correct / total_len)"
   ]
  },
  {
   "cell_type": "code",
   "execution_count": 27,
   "id": "94697921",
   "metadata": {},
   "outputs": [
    {
     "name": "stdout",
     "output_type": "stream",
     "text": [
      "[tensor([ 8, 18,  8, 18,  1, 33, 18,  1], device='cuda:0'), tensor([ 3, 19,  6, 19,  4,  6, 18, 18], device='cuda:0'), tensor([ 1,  6, 11,  2,  3, 18, 24, 18], device='cuda:0'), tensor([18,  4,  3,  9,  8, 19, 24, 19], device='cuda:0'), tensor([39, 11,  4,  3,  3,  7, 18,  9], device='cuda:0'), tensor([ 3, 18,  1,  3, 18,  2,  3, 18], device='cuda:0'), tensor([22, 28, 40, 43,  4, 19,  3,  4], device='cuda:0'), tensor([ 3, 18, 19,  7, 39, 13, 28,  6], device='cuda:0'), tensor([19, 18,  3, 19,  0,  3, 19,  3], device='cuda:0'), tensor([ 9,  3,  3,  3,  1,  1,  3, 19], device='cuda:0'), tensor([18, 18, 18, 19, 11,  3,  3, 10], device='cuda:0'), tensor([ 8, 19, 19,  3, 18, 10, 18, 13], device='cuda:0'), tensor([ 4,  4,  6, 18,  6,  3,  4, 18], device='cuda:0'), tensor([ 3,  1, 19,  3, 18,  6, 18, 18], device='cuda:0'), tensor([18,  4, 33,  6, 13,  1, 33, 11], device='cuda:0'), tensor([ 3, 33, 11, 22,  4,  3, 33,  6], device='cuda:0'), tensor([ 2,  3,  4, 18,  6, 18, 32,  1], device='cuda:0'), tensor([18, 10,  3, 18,  3, 18, 18, 18], device='cuda:0'), tensor([18,  4,  3,  3, 18,  1,  4,  3], device='cuda:0'), tensor([ 3, 13, 24, 33, 18,  2,  4,  3], device='cuda:0'), tensor([ 1,  2,  3, 18,  2, 32, 18, 18], device='cuda:0'), tensor([ 4, 32,  1, 18, 11,  0,  1, 18], device='cuda:0'), tensor([19, 31,  8,  3,  3, 18,  9,  3], device='cuda:0'), tensor([ 3, 32,  4, 18,  6,  3,  4, 18], device='cuda:0'), tensor([34,  2,  3,  3,  3,  2, 18, 18], device='cuda:0'), tensor([18,  1, 18, 22,  3, 18, 18,  3], device='cuda:0'), tensor([ 3, 18,  3,  3,  3,  3,  3, 18], device='cuda:0'), tensor([ 3,  4,  3, 18, 27,  7,  1, 18], device='cuda:0'), tensor([ 1, 18,  1,  3,  1, 19, 32,  3], device='cuda:0'), tensor([ 3, 19,  8, 33,  1,  1,  6, 18], device='cuda:0'), tensor([ 1, 18,  1,  4, 40, 18,  1,  3], device='cuda:0'), tensor([ 3,  2, 36, 18, 36, 18, 18,  1], device='cuda:0'), tensor([ 8,  3, 18, 19, 18,  1,  2,  3], device='cuda:0'), tensor([ 4, 32,  3,  2, 28, 13,  1, 18], device='cuda:0'), tensor([ 8, 39,  3,  9,  4,  2, 19, 19], device='cuda:0'), tensor([ 3,  2,  4,  4, 33, 18,  1,  4], device='cuda:0'), tensor([ 3, 18,  3, 19,  4,  0,  7,  3], device='cuda:0'), tensor([13,  3,  3,  6, 18, 18, 18,  4], device='cuda:0'), tensor([ 1, 18, 28,  1,  1,  8, 18,  3], device='cuda:0'), tensor([18, 36,  4,  6,  8,  3, 18,  3], device='cuda:0'), tensor([ 3,  1,  3, 13, 18, 18, 13,  2], device='cuda:0'), tensor([ 3,  8,  7,  7,  3,  3,  4, 11], device='cuda:0'), tensor([ 1,  3, 40,  4, 42,  4, 18,  3], device='cuda:0'), tensor([13,  3, 19,  3,  2,  2,  9,  4], device='cuda:0'), tensor([ 3,  4, 18, 13,  3,  1, 18,  0], device='cuda:0'), tensor([ 4,  4, 28,  9, 18,  4,  8,  3], device='cuda:0'), tensor([18, 10, 18, 13, 18, 18,  3, 36], device='cuda:0'), tensor([22,  3, 18,  1,  3, 43,  0,  1], device='cuda:0'), tensor([18,  9, 18, 18,  2,  3, 18,  8], device='cuda:0'), tensor([ 3,  3,  4,  4, 10,  3, 18,  4], device='cuda:0'), tensor([ 3,  2,  3,  0, 18, 29, 19,  6], device='cuda:0'), tensor([ 8, 18,  3, 18,  3,  4,  8,  4], device='cuda:0'), tensor([39, 18,  3, 18, 18, 27,  4, 40], device='cuda:0'), tensor([19, 33, 34,  0, 18,  1,  3,  3], device='cuda:0'), tensor([35, 32,  1,  8, 18, 10,  3,  4], device='cuda:0'), tensor([ 1, 18, 10,  9, 18, 18,  3,  3], device='cuda:0'), tensor([18, 12,  3,  1,  2,  3, 18,  3], device='cuda:0'), tensor([ 3, 18,  1, 18, 18, 33,  4, 18], device='cuda:0'), tensor([18, 24, 18,  3,  2,  8,  1,  4], device='cuda:0'), tensor([ 2,  7, 18,  1, 19, 22,  1,  3], device='cuda:0'), tensor([ 3,  3, 18, 18,  1,  7,  4,  1], device='cuda:0'), tensor([ 4, 19,  8, 18,  1,  1,  3, 33], device='cuda:0'), tensor([ 8,  3,  8,  2, 18,  3, 18,  3], device='cuda:0'), tensor([ 1, 28, 28, 18, 24,  7, 18, 33], device='cuda:0'), tensor([ 4, 18,  4, 32, 18, 18,  2, 19], device='cuda:0'), tensor([ 4,  1,  3, 18,  3, 18, 18,  3], device='cuda:0'), tensor([ 7,  1, 19, 18, 18,  1,  4,  1], device='cuda:0'), tensor([ 3, 42,  4,  6,  4,  1, 39,  3], device='cuda:0'), tensor([32, 13,  2,  3,  4, 21,  4,  3], device='cuda:0'), tensor([11,  2,  4, 18,  3,  3, 18, 18], device='cuda:0'), tensor([ 4,  8,  3, 39, 33, 32, 19, 31], device='cuda:0'), tensor([ 4, 17, 36, 11,  2,  3, 19,  3], device='cuda:0'), tensor([18,  4,  1,  2, 28,  3, 18, 19], device='cuda:0'), tensor([ 4,  4,  1,  2,  1,  3,  1, 18], device='cuda:0'), tensor([23,  4,  8,  4,  6, 18,  8, 18], device='cuda:0'), tensor([34, 18,  4, 18,  1,  3,  1,  3], device='cuda:0'), tensor([ 4, 18,  4,  2, 18, 13,  4, 11], device='cuda:0'), tensor([11, 36,  3,  0,  0, 33, 18,  8], device='cuda:0'), tensor([18, 18, 31,  4, 18,  8,  4,  3], device='cuda:0'), tensor([18,  4, 42,  2,  2, 10,  2,  4], device='cuda:0'), tensor([32,  3,  3,  4,  1,  3, 18, 18], device='cuda:0'), tensor([18,  3, 11,  4, 18,  1,  3,  1], device='cuda:0'), tensor([19,  1, 13, 18,  2, 43, 18,  0], device='cuda:0'), tensor([18, 12,  4,  4,  4,  3,  4,  3], device='cuda:0'), tensor([ 2, 18, 19,  3, 32, 18, 28,  0], device='cuda:0'), tensor([ 4,  4,  3,  4,  4, 24,  4,  3], device='cuda:0'), tensor([18, 18, 32,  3,  4,  6, 18,  2], device='cuda:0'), tensor([18,  1, 19,  3, 18, 18,  4, 39], device='cuda:0'), tensor([39, 10,  3,  3,  4, 18, 28, 30], device='cuda:0'), tensor([18,  3,  2, 15, 18, 32,  3,  8], device='cuda:0'), tensor([ 6, 18, 33, 18,  6,  4,  6,  1], device='cuda:0'), tensor([ 9,  3, 19,  3,  8,  1, 19, 33], device='cuda:0'), tensor([31, 18,  3,  8,  0,  1, 18,  4], device='cuda:0'), tensor([ 4,  6,  4, 18, 38,  1, 18,  1], device='cuda:0'), tensor([23, 11, 39, 18,  4, 30,  8, 33], device='cuda:0'), tensor([39, 34, 13, 18,  8,  4,  1,  3], device='cuda:0'), tensor([ 6, 18,  4, 36, 10, 32,  1,  4], device='cuda:0'), tensor([13,  3, 19,  3, 18, 26,  5, 18], device='cuda:0'), tensor([ 2, 18, 13,  3,  6,  3, 19,  8], device='cuda:0'), tensor([12, 18, 18, 18,  7, 18, 26, 36], device='cuda:0'), tensor([18, 18, 18,  3, 36, 18,  1, 18], device='cuda:0'), tensor([18,  6, 28,  3, 12, 18, 18, 18], device='cuda:0'), tensor([18,  4,  3,  7, 18, 18, 27,  3], device='cuda:0'), tensor([ 4, 19,  1, 18,  8,  8,  3,  2], device='cuda:0'), tensor([18, 18,  1, 18, 18,  3,  3,  1], device='cuda:0'), tensor([ 3,  2,  4,  7, 18,  3,  2, 36], device='cuda:0'), tensor([ 8, 33,  7,  8, 18,  0, 33,  1], device='cuda:0'), tensor([19,  7, 18, 18,  3,  3,  2,  1], device='cuda:0'), tensor([24,  6,  1,  3, 13,  3, 18,  4], device='cuda:0'), tensor([ 3,  4,  6,  3, 18,  3,  4,  0], device='cuda:0'), tensor([ 8, 19, 18,  3, 33,  1,  4, 13], device='cuda:0'), tensor([18,  1,  3, 18,  4,  1,  3,  2], device='cuda:0'), tensor([10, 18,  3,  4, 36,  3,  3, 10], device='cuda:0'), tensor([ 1, 19, 33,  3,  8,  3,  0, 18], device='cuda:0'), tensor([ 2,  1,  4, 18,  1,  3, 18,  4], device='cuda:0'), tensor([18, 34, 36, 18, 18, 18, 19, 18], device='cuda:0'), tensor([18,  3,  4, 18,  3,  1, 24,  3], device='cuda:0'), tensor([ 4,  1,  1, 18, 28, 18,  1, 18], device='cuda:0'), tensor([ 4,  4, 39, 10, 37, 28, 18, 19], device='cuda:0'), tensor([18,  4, 37, 18,  1, 18, 18, 18], device='cuda:0'), tensor([ 4, 33,  1, 18,  1, 15,  3, 18], device='cuda:0'), tensor([18,  8,  3,  3, 18,  1,  6,  4], device='cuda:0'), tensor([ 3, 38, 18, 18,  8,  2,  8, 29], device='cuda:0'), tensor([ 9, 18, 18,  3,  1,  8, 13,  3], device='cuda:0'), tensor([18,  7,  3, 19,  0, 36,  2,  1], device='cuda:0'), tensor([ 3, 19,  3, 34,  3,  9,  4,  3], device='cuda:0'), tensor([ 4,  4, 19, 18,  3,  1,  3,  3], device='cuda:0'), tensor([28,  4,  7,  3,  6, 18, 34,  3], device='cuda:0'), tensor([ 1, 18, 12,  3,  3,  9,  1, 18], device='cuda:0'), tensor([ 2,  1, 39,  1, 19,  4,  3,  3], device='cuda:0'), tensor([ 4,  3, 31,  3, 27,  3, 18,  4], device='cuda:0'), tensor([ 4, 18,  2,  3, 19,  3,  4,  6], device='cuda:0'), tensor([ 1, 18, 34,  3, 19, 18, 18, 39], device='cuda:0'), tensor([ 3, 39,  4, 11, 24,  3, 18,  3], device='cuda:0'), tensor([ 3, 28,  1, 25, 12,  2, 19,  3], device='cuda:0'), tensor([11,  3,  8, 18, 33,  0, 18,  8], device='cuda:0'), tensor([ 4,  3, 18, 18,  3,  3,  4, 18], device='cuda:0'), tensor([ 3, 18, 18,  1, 18,  4, 21, 18], device='cuda:0'), tensor([11, 18, 18,  4,  3,  8, 19,  2], device='cuda:0'), tensor([18, 18, 18,  1,  3,  8,  1,  2], device='cuda:0'), tensor([37, 10,  3,  1, 36,  4, 18, 13], device='cuda:0'), tensor([ 4,  3,  1, 18,  4, 28,  1,  3], device='cuda:0'), tensor([ 3,  1,  4,  3, 18,  4,  3,  1], device='cuda:0'), tensor([18, 19, 18,  3, 18, 13,  8, 39], device='cuda:0'), tensor([18, 10, 32, 13, 19, 18, 18,  2], device='cuda:0'), tensor([24,  2,  3,  4,  1, 18,  4,  3], device='cuda:0'), tensor([ 4,  3,  3,  8,  4,  4, 18, 19], device='cuda:0'), tensor([33,  8,  3,  4, 18,  4, 30,  3], device='cuda:0'), tensor([ 4, 13,  1,  2, 18,  3, 18, 42], device='cuda:0'), tensor([ 6, 18,  6,  3,  9,  1, 19, 18], device='cuda:0'), tensor([30,  3, 18, 18, 18,  1, 18, 18], device='cuda:0'), tensor([ 9,  3, 18,  1, 18,  3, 39, 18], device='cuda:0'), tensor([ 3, 39, 24,  4, 18, 18, 13, 10], device='cuda:0'), tensor([10,  3,  8,  2,  3,  3,  4, 19], device='cuda:0'), tensor([19, 18,  4,  3,  8, 12,  3,  3], device='cuda:0'), tensor([ 4,  7,  0, 18, 24,  3,  3,  3], device='cuda:0'), tensor([18,  4,  1,  3, 39, 18, 33,  1], device='cuda:0'), tensor([13, 18, 18,  4,  4, 33, 36, 13], device='cuda:0'), tensor([ 3, 18, 19,  0, 28, 18,  3,  0], device='cuda:0'), tensor([ 1, 18,  3,  1,  2, 22,  8, 13], device='cuda:0'), tensor([39, 39,  4, 13,  3,  4,  2,  3], device='cuda:0'), tensor([18, 27, 18,  9, 37,  3, 12, 18], device='cuda:0'), tensor([22,  3, 22, 18, 11, 18,  0, 18], device='cuda:0'), tensor([18, 13, 11,  1,  4,  8, 18,  3], device='cuda:0'), tensor([13, 36,  3,  3,  2, 18,  4,  3], device='cuda:0'), tensor([ 1,  4,  4,  3,  0, 18,  2, 22], device='cuda:0'), tensor([10,  3, 13,  3, 18,  3, 43, 10], device='cuda:0'), tensor([ 6,  0,  3,  6, 18, 39, 18,  3], device='cuda:0'), tensor([19,  1,  4, 24,  1,  3,  8,  1], device='cuda:0'), tensor([ 3,  3,  3, 18, 18,  3, 33,  3], device='cuda:0'), tensor([18, 18, 19,  6, 19,  7,  3,  2], device='cuda:0'), tensor([ 3, 18, 31,  1, 18,  9, 18,  3], device='cuda:0'), tensor([ 0, 42, 18, 13, 18,  3,  3, 33], device='cuda:0'), tensor([19, 11,  8, 18, 12, 18, 33, 33], device='cuda:0'), tensor([18, 18,  2, 18,  3,  3,  0,  3], device='cuda:0'), tensor([32,  4,  3,  3,  7, 12,  4,  4], device='cuda:0'), tensor([18, 31,  2,  3, 18, 18,  8,  4], device='cuda:0'), tensor([39,  1, 13,  3,  3,  1, 18, 18], device='cuda:0'), tensor([ 4,  0, 34,  4, 28, 39,  3, 19], device='cuda:0'), tensor([ 6,  2,  1, 18, 32, 22,  3, 22], device='cuda:0'), tensor([18,  8, 18, 19,  3,  4,  3, 24], device='cuda:0'), tensor([28,  6, 18, 13,  3, 18,  1, 18], device='cuda:0'), tensor([18, 33, 18,  4, 33,  8,  0,  1], device='cuda:0'), tensor([ 9, 18,  7,  1,  4, 18, 10, 18], device='cuda:0'), tensor([ 4,  2,  3,  3,  6, 18,  3, 10], device='cuda:0'), tensor([19, 32, 27, 15,  2,  3, 18, 22], device='cuda:0'), tensor([ 4, 15, 18,  4,  3,  8, 18, 19], device='cuda:0'), tensor([ 6, 33,  3,  3,  3, 32,  2, 36], device='cuda:0'), tensor([ 1,  1, 19,  4,  3,  0, 13, 10], device='cuda:0'), tensor([ 3,  3, 18, 13,  1,  0,  0, 30], device='cuda:0'), tensor([40,  9, 37,  1, 19,  8, 18, 13], device='cuda:0'), tensor([18, 18,  3,  4, 26, 32,  3,  3], device='cuda:0'), tensor([ 1, 18, 18,  3, 19,  3, 10,  1], device='cuda:0'), tensor([ 6, 18,  1, 32,  1, 32,  8, 39], device='cuda:0'), tensor([19,  8,  0,  3, 36,  4, 18,  6], device='cuda:0'), tensor([22,  7,  1,  2, 24, 19,  3,  2], device='cuda:0'), tensor([32,  3, 28,  3, 19, 18,  3,  3], device='cuda:0'), tensor([ 3,  6, 18,  6,  4, 36,  3,  4], device='cuda:0'), tensor([23,  8,  9,  3,  3, 14, 24,  1], device='cuda:0'), tensor([32, 27,  8,  1,  3, 28, 19, 13], device='cuda:0'), tensor([ 3, 19, 38,  1,  3, 13,  3,  3], device='cuda:0'), tensor([ 8, 19,  4,  3,  4, 32,  6, 18], device='cuda:0'), tensor([ 3,  3,  3,  3, 18, 18,  2,  1], device='cuda:0'), tensor([ 2, 18,  3, 19,  1,  5, 28, 18], device='cuda:0'), tensor([13, 19, 32,  1,  8, 19, 18,  8], device='cuda:0'), tensor([ 3, 18,  4, 18, 18, 34,  1, 18], device='cuda:0'), tensor([36, 18, 22,  4,  8,  1,  4,  3], device='cuda:0'), tensor([19, 18, 18,  3,  8,  4, 32, 18], device='cuda:0'), tensor([18,  6, 18,  4, 18, 18, 18, 43], device='cuda:0'), tensor([ 4,  1,  3,  3,  3, 28,  1,  3], device='cuda:0'), tensor([ 3, 18, 13, 18, 18,  4, 24, 33], device='cuda:0'), tensor([ 2, 13,  2, 18,  1, 24, 18, 39], device='cuda:0'), tensor([ 4,  3,  4,  3,  1, 18,  1,  1], device='cuda:0'), tensor([ 3,  3, 19, 10,  2,  3, 18,  3], device='cuda:0'), tensor([ 3, 39,  3,  8, 18,  3,  1,  3], device='cuda:0'), tensor([ 1, 33,  4,  3, 28,  3,  8, 18], device='cuda:0'), tensor([13,  1, 19, 18, 10, 37, 18,  4], device='cuda:0'), tensor([4, 3, 8, 3, 4, 1, 0, 6], device='cuda:0'), tensor([ 2,  6,  8,  4, 18,  0,  3, 19], device='cuda:0'), tensor([19,  4, 18,  1,  8, 34,  6, 24], device='cuda:0'), tensor([ 9, 18,  3,  4,  3,  7, 18,  1], device='cuda:0'), tensor([32,  1,  6, 33, 24,  2, 13, 18], device='cuda:0'), tensor([18, 18,  8,  8,  3, 10, 18, 10], device='cuda:0'), tensor([ 4, 18,  4,  3,  7, 18, 10,  1], device='cuda:0'), tensor([18,  1,  4, 39, 19, 19, 10, 18], device='cuda:0'), tensor([ 3,  3, 11,  1, 18,  1, 19,  4], device='cuda:0'), tensor([ 0, 18,  3,  6,  1, 18, 42,  9], device='cuda:0'), tensor([ 3, 32,  4,  1,  4,  3,  2,  3], device='cuda:0'), tensor([18, 18, 18, 18,  1,  4, 18,  3], device='cuda:0'), tensor([28, 18, 18,  2,  3,  3, 18, 18], device='cuda:0'), tensor([18,  3,  3, 28,  3,  3, 13,  1], device='cuda:0'), tensor([ 1, 33,  9, 13,  3,  1, 13,  9], device='cuda:0'), tensor([ 8, 13, 33,  4,  4,  2, 18, 18], device='cuda:0'), tensor([34, 18,  4, 24, 13,  4, 18,  4], device='cuda:0'), tensor([ 4, 13,  3,  1, 28,  3, 18,  4], device='cuda:0'), tensor([ 4, 18, 37,  4,  2, 29,  5, 13], device='cuda:0'), tensor([18, 19, 18, 21, 19,  4, 10,  1], device='cuda:0'), tensor([18, 19,  1, 18,  9,  3, 13, 24], device='cuda:0'), tensor([18,  4, 18, 33, 18, 39, 19,  9], device='cuda:0'), tensor([40, 18, 18,  3,  2,  9, 19, 37], device='cuda:0'), tensor([18,  4, 19,  3, 18,  4, 22,  4], device='cuda:0'), tensor([19,  4, 19,  8,  6, 18, 18,  3], device='cuda:0'), tensor([33, 32,  1, 19,  4, 18,  4,  3], device='cuda:0'), tensor([18,  1,  3,  3,  6, 18, 32, 19], device='cuda:0'), tensor([18, 36, 32,  4, 19,  9,  7, 18], device='cuda:0'), tensor([ 4, 27,  3, 28,  3, 18, 34,  1], device='cuda:0'), tensor([18, 13,  1,  3, 33,  3, 33, 18], device='cuda:0'), tensor([ 3,  1, 18, 18, 32,  2, 19,  8], device='cuda:0'), tensor([18,  1, 11, 39,  4, 33,  3, 18], device='cuda:0'), tensor([33,  1,  6,  1, 11, 18, 18,  1], device='cuda:0'), tensor([ 4, 18,  1, 18, 18,  4, 18,  1], device='cuda:0'), tensor([ 4, 10,  1,  3,  9,  4,  1, 42], device='cuda:0'), tensor([19,  3,  3,  5,  8,  3, 33,  3], device='cuda:0'), tensor([36,  3,  1,  3, 18, 31, 18, 18], device='cuda:0'), tensor([18,  1,  1, 11,  1, 19,  1,  3], device='cuda:0'), tensor([18, 18,  1, 13, 39, 19,  3,  4], device='cuda:0'), tensor([ 6, 18, 21,  4, 10, 39, 13, 22], device='cuda:0'), tensor([18,  3,  4,  4,  1, 18, 18,  1], device='cuda:0'), tensor([ 4, 39, 12,  3,  3, 18,  3,  3], device='cuda:0'), tensor([ 4,  3,  3, 24,  4,  3, 33,  8], device='cuda:0'), tensor([ 2, 13,  6, 33,  1,  3, 28, 18], device='cuda:0'), tensor([39, 28, 18,  4,  6, 18,  3,  3], device='cuda:0'), tensor([ 3,  8, 18,  1,  3,  4, 18,  1], device='cuda:0'), tensor([18,  4, 18,  7,  3,  3, 32, 33], device='cuda:0'), tensor([24, 18, 18, 18,  2,  1, 13,  3], device='cuda:0'), tensor([ 3,  1,  4,  1, 18,  3, 33,  3], device='cuda:0'), tensor([ 3, 18, 18,  4, 10,  4, 15,  1], device='cuda:0'), tensor([ 3, 18, 33,  3,  3,  4, 28,  3], device='cuda:0'), tensor([18,  3,  8, 18, 18, 33, 18, 18], device='cuda:0'), tensor([41,  3,  1,  4,  3, 34,  3, 18], device='cuda:0'), tensor([ 6, 16,  1,  3, 10,  1, 13, 18], device='cuda:0'), tensor([ 1,  1,  3, 36,  2,  4, 39,  2], device='cuda:0'), tensor([ 1,  1,  4,  3,  3, 18,  4,  2], device='cuda:0'), tensor([18,  1,  4,  0,  2,  8,  4,  2], device='cuda:0'), tensor([ 4,  1, 18,  3,  3,  3,  0, 34], device='cuda:0'), tensor([ 1, 30, 28, 19,  3,  8, 18, 18], device='cuda:0'), tensor([ 3, 18,  3,  3, 33, 22,  4, 13], device='cuda:0'), tensor([19,  3, 18, 40, 19,  3,  4, 18], device='cuda:0'), tensor([ 2, 18,  4,  8,  1, 18, 18, 32], device='cuda:0'), tensor([ 3, 18,  4,  3,  4,  3,  3, 18], device='cuda:0'), tensor([18,  1, 18,  8,  4,  6,  4,  1], device='cuda:0'), tensor([ 3, 18, 19,  4,  3,  3, 37, 18], device='cuda:0'), tensor([42, 18,  8, 18, 10,  3,  1, 18], device='cuda:0'), tensor([ 4,  4, 24,  1, 32, 13, 18, 33], device='cuda:0'), tensor([18,  1,  2,  3, 18,  3, 34, 11], device='cuda:0'), tensor([13,  3, 18,  3,  3,  4, 19, 18], device='cuda:0'), tensor([33, 18,  3,  4,  4, 18, 18, 10], device='cuda:0'), tensor([ 4, 19, 19,  3, 18,  1,  1,  6], device='cuda:0'), tensor([ 3,  3,  6,  6, 19,  3,  2,  2], device='cuda:0'), tensor([ 3, 19, 36, 18,  3,  3,  3,  3], device='cuda:0'), tensor([ 0, 18,  1, 12, 18, 11, 18,  1], device='cuda:0'), tensor([ 3, 18,  4, 18,  1,  2,  6, 40], device='cuda:0'), tensor([ 8, 13, 33,  6, 18,  1,  2,  3], device='cuda:0'), tensor([18, 18, 18,  7, 18,  6,  4, 18], device='cuda:0'), tensor([10, 18, 18, 18,  3, 18,  1,  2], device='cuda:0'), tensor([28, 18, 18,  3,  3,  3,  3, 28], device='cuda:0'), tensor([ 2,  1,  3, 19, 34,  4,  3,  6], device='cuda:0'), tensor([ 3,  1,  1, 30,  3,  3, 32,  3], device='cuda:0'), tensor([10, 18,  3, 19,  3,  6,  4, 18], device='cuda:0'), tensor([ 4,  1,  6,  3, 11, 18, 24,  8], device='cuda:0'), tensor([ 3, 39, 18,  6,  3, 13, 18, 19], device='cuda:0'), tensor([33,  8, 33,  6, 21,  3,  3,  1], device='cuda:0'), tensor([18, 19,  8, 18,  3, 33, 39,  3], device='cuda:0'), tensor([ 1,  4,  2, 36,  3,  3, 18,  1], device='cuda:0'), tensor([ 2, 18,  3, 33, 32, 13, 31,  4], device='cuda:0'), tensor([ 1, 33,  4,  2,  3,  3,  4,  3], device='cuda:0'), tensor([33, 18, 18,  4,  1,  3,  2, 24], device='cuda:0'), tensor([24,  3, 18, 18,  3,  3,  3,  4], device='cuda:0'), tensor([13, 34, 33, 33,  4, 18,  3,  1], device='cuda:0'), tensor([ 3,  4, 11,  4, 18,  2, 24,  3], device='cuda:0'), tensor([42,  4, 18,  0,  1,  8, 24, 27], device='cuda:0'), tensor([ 5,  3, 18, 11, 23,  4, 18, 32], device='cuda:0'), tensor([ 3, 18,  4,  3,  1,  3, 28, 18], device='cuda:0'), tensor([18, 18,  3, 18, 18,  3, 18,  3], device='cuda:0'), tensor([ 4, 18, 18,  6, 28,  3, 18, 18], device='cuda:0'), tensor([18, 22, 19, 19,  8,  3,  6,  3], device='cuda:0'), tensor([ 4, 33,  4, 13,  3, 18,  3,  4], device='cuda:0'), tensor([18, 18, 33, 18,  1,  8,  2,  2], device='cuda:0'), tensor([ 3, 18,  1, 18, 34,  1,  4,  3], device='cuda:0'), tensor([18,  3,  3, 12, 13,  0, 18, 10], device='cuda:0'), tensor([ 1,  3, 13,  4,  3,  3,  2, 18], device='cuda:0'), tensor([ 4, 18, 13,  1,  2,  4, 11,  3], device='cuda:0'), tensor([18,  1, 19,  1, 19,  3, 18,  1], device='cuda:0'), tensor([4, 1, 2, 0, 3, 7, 3, 4], device='cuda:0'), tensor([ 6, 18, 18, 34, 18,  8, 18,  1], device='cuda:0'), tensor([ 2, 18,  6, 22, 33, 28,  6,  4], device='cuda:0'), tensor([18, 22,  3,  1, 18,  3,  4, 33], device='cuda:0'), tensor([18,  2, 32, 18,  8,  1,  1,  8], device='cuda:0'), tensor([ 3,  4, 18,  8,  3, 10, 27, 19], device='cuda:0'), tensor([ 4,  3,  6,  3,  9,  8,  4, 34], device='cuda:0'), tensor([19,  6, 39, 32, 12, 18, 18, 29], device='cuda:0'), tensor([19,  8,  3,  3, 18,  3,  2, 18], device='cuda:0'), tensor([ 3,  1, 33,  0, 42, 22, 18, 18], device='cuda:0'), tensor([ 5, 28, 24,  1, 13,  3, 18,  8], device='cuda:0'), tensor([ 3, 19,  9,  3,  3,  4, 18,  0], device='cuda:0'), tensor([ 3,  4,  4, 18, 19,  1, 18,  1], device='cuda:0'), tensor([ 3, 18,  5,  3,  3,  9,  4, 32], device='cuda:0'), tensor([33, 18, 18, 10, 19, 43, 18, 18], device='cuda:0'), tensor([ 1,  1, 18,  3,  3,  2, 33, 22], device='cuda:0'), tensor([19,  4,  8,  2,  3, 32, 16,  1], device='cuda:0'), tensor([ 6,  1,  3, 18,  1,  3, 18, 18], device='cuda:0'), tensor([19,  8, 18,  2, 43, 18, 37,  2], device='cuda:0'), tensor([18, 12, 27, 13,  8, 18, 18,  1], device='cuda:0'), tensor([ 3,  3, 18,  3, 22, 27, 28,  1], device='cuda:0'), tensor([18, 18, 24,  1,  4,  3, 18, 18], device='cuda:0'), tensor([12,  8, 40,  4,  3,  4, 23,  4], device='cuda:0'), tensor([13, 18, 20, 18, 18,  2,  4,  1], device='cuda:0'), tensor([ 4,  3,  2, 13, 18,  4,  8, 18], device='cuda:0'), tensor([ 1, 10,  2,  1,  8, 19,  3,  3], device='cuda:0'), tensor([39, 36,  3, 18,  2, 24,  4,  3], device='cuda:0'), tensor([ 8,  0,  3,  8,  6, 33,  6, 18], device='cuda:0'), tensor([ 4, 27, 10, 33, 19, 36,  7,  8], device='cuda:0'), tensor([ 1, 31, 18, 18,  6, 34, 18, 18], device='cuda:0'), tensor([ 1, 18,  3, 18,  2, 34,  3, 18], device='cuda:0'), tensor([ 1,  3,  1,  8,  6, 19,  3,  4], device='cuda:0'), tensor([ 2,  4,  3, 19, 18,  3,  1, 18], device='cuda:0'), tensor([13,  1,  8, 29, 19,  1,  3, 10], device='cuda:0'), tensor([ 3, 32,  2,  1,  1,  1,  3, 33], device='cuda:0'), tensor([18,  3, 18, 16,  3,  0, 32,  3], device='cuda:0'), tensor([ 3,  4, 18, 32, 18, 18,  4, 24], device='cuda:0'), tensor([32,  3,  3, 18,  3, 19, 18, 18], device='cuda:0'), tensor([ 3,  3, 32,  2, 19,  4,  3, 18], device='cuda:0'), tensor([18, 13,  0,  2, 18,  1, 19,  2], device='cuda:0'), tensor([ 7, 25,  3, 43,  3, 10,  4,  3], device='cuda:0'), tensor([19,  6, 33,  4,  4, 18,  1, 18], device='cuda:0'), tensor([ 1,  3,  3, 18, 18, 24,  8, 29], device='cuda:0'), tensor([ 9, 27, 18,  6,  3, 18, 18,  2], device='cuda:0'), tensor([18,  1,  2, 18, 32,  4, 12,  4], device='cuda:0'), tensor([ 1,  4,  1,  1,  3, 16,  3, 18], device='cuda:0'), tensor([18,  3,  4,  4, 27,  3,  3,  7], device='cuda:0'), tensor([ 4, 18, 35,  6,  4, 18, 18,  2], device='cuda:0'), tensor([ 4,  3, 18, 18,  3,  9,  8,  4], device='cuda:0'), tensor([18, 18,  1,  3,  8,  3, 18,  3], device='cuda:0'), tensor([ 3, 24, 34,  4, 18, 18, 18,  1], device='cuda:0'), tensor([18,  3,  3,  3,  3, 15,  3, 39], device='cuda:0'), tensor([18, 18,  4,  1,  3,  3, 32,  1], device='cuda:0'), tensor([ 3,  3,  6,  2,  1,  2, 32,  3], device='cuda:0'), tensor([30,  6,  4, 18,  3,  3,  3, 32], device='cuda:0'), tensor([18,  3,  9,  0,  4,  4, 37, 18], device='cuda:0'), tensor([13,  0,  4, 11, 18,  4,  1,  6], device='cuda:0'), tensor([33,  3, 23,  4,  3,  3,  8, 19], device='cuda:0'), tensor([28,  3,  4,  1,  4, 18, 18,  3], device='cuda:0'), tensor([18, 18, 18, 19,  4, 18, 10, 18], device='cuda:0'), tensor([18,  1,  4,  4,  2, 18,  4, 18], device='cuda:0'), tensor([ 3, 35,  4, 19,  8, 32,  3, 18], device='cuda:0'), tensor([11, 19,  8,  3, 18,  1,  1, 43], device='cuda:0'), tensor([ 4, 19, 11,  4,  2, 18, 18, 42], device='cuda:0'), tensor([ 4,  8,  3, 27, 18, 18,  1, 18], device='cuda:0'), tensor([24,  1,  3,  0, 18, 18, 34,  4], device='cuda:0'), tensor([ 3, 11,  3,  3, 28,  3,  3, 11], device='cuda:0'), tensor([ 4,  6,  4, 32,  1, 18, 18,  3], device='cuda:0'), tensor([28, 11, 20, 18, 18,  3, 18, 18], device='cuda:0'), tensor([18,  0, 18, 33, 18, 18,  1, 18], device='cuda:0'), tensor([15, 19,  3,  4,  6,  2,  6,  3], device='cuda:0'), tensor([ 1,  3, 19,  4,  3,  3, 19,  3], device='cuda:0'), tensor([ 3,  3,  4, 18,  3, 28,  3, 19], device='cuda:0'), tensor([39, 18,  1,  8,  0,  1,  1, 18], device='cuda:0'), tensor([34, 19, 24, 10, 18,  3,  4,  3], device='cuda:0'), tensor([27,  1,  6, 18, 15,  3,  3,  4], device='cuda:0'), tensor([ 4,  1,  3,  3, 29,  4,  3, 19], device='cuda:0'), tensor([ 2, 19,  6,  2,  6,  3, 39,  1], device='cuda:0'), tensor([18, 19, 18,  3, 18, 18,  0, 18], device='cuda:0'), tensor([ 4, 31, 18, 19,  3,  3, 19, 18], device='cuda:0'), tensor([18,  6, 18, 19, 18, 19, 18,  1], device='cuda:0'), tensor([11, 18,  1, 43, 13,  3,  3,  3], device='cuda:0'), tensor([ 6,  4,  1, 18,  1, 18,  3, 19], device='cuda:0'), tensor([ 1, 18, 18, 28,  3, 18,  3, 18], device='cuda:0'), tensor([ 3,  1, 18,  3,  1, 13, 32,  3], device='cuda:0'), tensor([ 6, 24, 18, 18,  1,  1,  2,  1], device='cuda:0'), tensor([ 3, 18, 18, 18,  3, 26, 19, 19], device='cuda:0'), tensor([ 4, 19,  3,  1, 33,  4,  4,  3], device='cuda:0'), tensor([18, 13, 13,  8,  3,  3, 18, 28], device='cuda:0'), tensor([18,  8,  4, 17,  6,  3, 19,  3], device='cuda:0'), tensor([18,  8,  1, 18, 32,  3, 18, 18], device='cuda:0'), tensor([18, 13, 18, 28, 39,  8,  4, 24], device='cuda:0'), tensor([ 1,  2, 28,  4, 19,  3, 19,  4], device='cuda:0'), tensor([ 0,  3,  9,  0,  2,  4, 18,  9], device='cuda:0'), tensor([ 4, 18, 33,  3, 18, 18,  3,  1], device='cuda:0'), tensor([33,  2,  3,  4, 32, 18,  6,  0], device='cuda:0'), tensor([ 1, 18, 16, 18,  4,  4, 32, 18], device='cuda:0'), tensor([ 3,  6, 18, 31, 18, 33, 18, 31], device='cuda:0'), tensor([18, 13, 18,  2, 34,  3,  3,  3], device='cuda:0'), tensor([ 4,  3, 18,  3, 30, 18, 18,  2], device='cuda:0'), tensor([ 4,  4, 10,  4,  4, 19,  3, 13], device='cuda:0'), tensor([ 4, 11,  3,  1,  1, 18, 28,  2], device='cuda:0'), tensor([33,  3,  4, 18,  3, 18, 18, 10], device='cuda:0'), tensor([28, 32, 18, 19, 13, 18,  3, 13], device='cuda:0'), tensor([ 3,  3,  3, 18, 33, 18,  3, 18], device='cuda:0'), tensor([18,  3,  3,  6,  1,  3, 18, 18], device='cuda:0'), tensor([ 3,  3, 18, 10,  2,  9, 27,  3], device='cuda:0'), tensor([ 3, 18,  3,  0, 36,  3, 18, 30], device='cuda:0'), tensor([18, 19, 18, 32,  6, 18,  1, 40], device='cuda:0'), tensor([18,  3, 18, 18, 18,  3, 18, 18], device='cuda:0'), tensor([ 2,  1, 18,  0,  2, 19,  1,  4], device='cuda:0'), tensor([ 1, 18,  1,  3, 18,  2,  3, 30], device='cuda:0'), tensor([18, 12,  1, 18, 18,  4,  3,  0], device='cuda:0'), tensor([ 4,  3,  3,  4,  1, 22,  3,  1], device='cuda:0'), tensor([ 4,  9,  3, 18, 18,  3,  1,  3], device='cuda:0'), tensor([18, 18, 18, 18, 32,  1, 18, 19], device='cuda:0'), tensor([18, 18,  8,  1, 19,  4, 18, 18], device='cuda:0'), tensor([18, 32, 18, 18, 10,  4,  8,  9], device='cuda:0'), tensor([ 3, 18, 18,  3, 18,  4,  1, 16], device='cuda:0'), tensor([18,  1, 18, 34,  8, 19,  1,  1], device='cuda:0'), tensor([10,  3,  1,  6,  3, 18, 43,  3], device='cuda:0'), tensor([18, 39, 18,  2, 18, 18,  1,  6], device='cuda:0'), tensor([18, 18,  0,  2,  4,  1,  2, 10], device='cuda:0'), tensor([ 1,  3,  3,  1, 12, 22,  1,  3], device='cuda:0'), tensor([19,  1, 18,  2, 32,  2,  3,  1], device='cuda:0'), tensor([10,  3, 34, 18, 18,  2, 18,  3], device='cuda:0'), tensor([19,  1,  4, 11,  2, 18, 19,  3], device='cuda:0'), tensor([12, 18,  1, 21, 18, 32, 18, 18], device='cuda:0'), tensor([19, 18,  1, 19,  0,  3,  4,  6], device='cuda:0'), tensor([33, 19,  4,  3,  4, 28, 11,  2], device='cuda:0'), tensor([18,  1, 18,  1,  4, 24, 18, 33], device='cuda:0'), tensor([ 3,  3,  8,  3,  2, 18, 18, 18], device='cuda:0'), tensor([ 3, 18, 19,  1, 18,  2,  3,  6], device='cuda:0'), tensor([ 3, 18,  4, 32,  1, 18, 18, 18], device='cuda:0'), tensor([ 3, 18, 18,  3,  4, 18,  4,  2], device='cuda:0'), tensor([ 6, 19, 18, 28, 18, 28, 19, 28], device='cuda:0'), tensor([19, 18,  4, 23,  4, 18,  4, 18], device='cuda:0'), tensor([32, 18,  3, 18,  3,  4,  3, 18], device='cuda:0'), tensor([18, 18, 18,  4,  2, 13, 18, 18], device='cuda:0'), tensor([ 2, 18,  4, 18, 18, 33, 18, 18], device='cuda:0'), tensor([ 3, 19,  3, 18, 36,  4, 27, 38], device='cuda:0'), tensor([32,  0,  1, 18,  4, 19,  1,  2], device='cuda:0'), tensor([19, 19,  1,  3, 42,  1, 33, 18], device='cuda:0'), tensor([ 0, 18, 18, 18,  8, 18,  3,  3], device='cuda:0'), tensor([18,  3,  1,  4,  1,  3, 10, 13], device='cuda:0'), tensor([18, 18, 13, 18, 18,  3,  3,  3], device='cuda:0'), tensor([12,  0, 13, 18,  4,  8,  4,  3], device='cuda:0'), tensor([ 4,  3,  1,  3, 18,  1,  7,  1], device='cuda:0'), tensor([ 3, 24,  3, 32,  8,  2, 31, 18], device='cuda:0'), tensor([ 6, 28, 36,  2,  1, 36,  3,  3], device='cuda:0'), tensor([18,  3,  1, 18, 32, 18,  0,  4], device='cuda:0'), tensor([18,  1,  9,  4, 11,  1,  0,  4], device='cuda:0'), tensor([18,  8, 28,  3,  8,  1, 11,  3], device='cuda:0'), tensor([18, 18, 18, 18, 13,  4,  4, 32], device='cuda:0'), tensor([ 6,  3,  9, 22, 18, 20, 33,  2], device='cuda:0'), tensor([18, 18, 19, 10, 11, 18, 18,  1], device='cuda:0'), tensor([ 1, 24, 18, 19,  3,  3, 18, 18], device='cuda:0'), tensor([ 4, 24,  3, 11,  3, 18,  3,  4], device='cuda:0'), tensor([ 4,  1, 22,  3,  8, 19,  8, 19], device='cuda:0'), tensor([42, 11,  4, 18,  3, 13, 33,  4], device='cuda:0'), tensor([ 1,  2,  1,  3,  1,  3,  6, 18], device='cuda:0'), tensor([18, 18,  3,  1,  3,  2,  8,  3], device='cuda:0'), tensor([ 1, 37, 19, 18,  4,  2, 39,  2], device='cuda:0'), tensor([39,  1,  1,  4,  3,  4, 18, 19], device='cuda:0'), tensor([ 8, 27, 18,  3,  1, 24, 10, 18], device='cuda:0'), tensor([34,  4, 34, 18,  3,  3, 18,  2], device='cuda:0'), tensor([18, 19,  4,  3,  1,  4,  1,  1], device='cuda:0'), tensor([ 1, 19,  3,  4, 24, 10, 12, 18], device='cuda:0'), tensor([ 3, 28,  4,  3,  6, 32, 18,  3], device='cuda:0'), tensor([ 3, 18, 13,  8, 18,  3, 18, 18], device='cuda:0'), tensor([ 0,  3, 18,  3,  0,  6,  4,  6], device='cuda:0'), tensor([ 0,  1, 24,  3,  4,  2,  3,  3], device='cuda:0'), tensor([24,  3,  7,  0,  1, 28,  3, 18], device='cuda:0'), tensor([ 3,  1,  3, 18,  2,  3,  1,  1], device='cuda:0'), tensor([ 3,  8, 27, 18, 10,  0,  1, 21], device='cuda:0'), tensor([18,  3,  3,  9,  4, 39,  4, 18], device='cuda:0'), tensor([22,  6,  1, 18,  2, 18,  8, 18], device='cuda:0'), tensor([15, 34, 24,  4, 28,  1, 36,  1], device='cuda:0'), tensor([ 2, 33, 18,  3, 18, 18, 22,  3], device='cuda:0'), tensor([18,  6, 18, 18,  3, 18,  1,  1], device='cuda:0'), tensor([18, 22,  3,  1,  8, 18, 18, 18], device='cuda:0'), tensor([ 1,  4,  9,  0, 18, 24,  3,  8], device='cuda:0'), tensor([ 3,  3,  4, 12,  1,  4, 18, 19], device='cuda:0'), tensor([ 6,  6,  0,  3,  5, 18, 18,  3], device='cuda:0'), tensor([18, 34, 32, 18, 19, 18, 18,  4], device='cuda:0'), tensor([18,  3,  1,  4,  2, 32,  1,  4], device='cuda:0'), tensor([18, 32, 18, 18,  2, 18, 18,  3], device='cuda:0'), tensor([ 4,  1,  3, 18, 33,  4, 32,  3], device='cuda:0'), tensor([ 3,  4,  3, 13,  3,  3, 24, 32], device='cuda:0'), tensor([18,  4, 19, 18, 18, 19, 18,  1], device='cuda:0'), tensor([ 3,  1, 19,  1,  6, 18,  4,  3], device='cuda:0'), tensor([ 9, 18, 18, 18,  2, 13,  1,  8], device='cuda:0'), tensor([19,  4,  6,  1,  1,  3, 19, 18], device='cuda:0'), tensor([ 2,  1, 18, 18,  3,  6, 18,  9], device='cuda:0'), tensor([11,  3,  3, 18, 18,  3,  1,  9], device='cuda:0'), tensor([ 2, 25,  3,  4,  4,  1,  1,  3], device='cuda:0'), tensor([ 0, 18,  4,  3, 18,  3,  3, 18], device='cuda:0'), tensor([ 3,  1,  6,  3,  4,  3, 13,  3], device='cuda:0'), tensor([27, 19,  3,  4,  4,  3, 18,  3], device='cuda:0'), tensor([ 3, 24, 18,  6, 13,  0,  2, 34], device='cuda:0'), tensor([ 8, 19, 18,  1,  3,  6,  4, 18], device='cuda:0'), tensor([ 3, 43,  3, 18,  1,  3,  1, 18], device='cuda:0'), tensor([18, 18,  1,  1,  3,  3, 13, 43], device='cuda:0'), tensor([ 3, 24, 18,  6, 39, 40,  8,  3], device='cuda:0'), tensor([ 3, 23, 18,  4, 18, 24,  3, 24], device='cuda:0'), tensor([ 3,  1, 32, 18,  1, 18, 18, 13], device='cuda:0'), tensor([ 6, 18,  3, 18, 18, 18, 18,  1], device='cuda:0'), tensor([ 6,  3,  1,  3,  2, 18, 18, 18], device='cuda:0'), tensor([13, 13,  6,  3,  3,  1,  4,  4], device='cuda:0'), tensor([18,  0, 33, 18, 32, 18, 18,  4], device='cuda:0'), tensor([ 3, 18,  4, 18,  0, 19,  3, 18], device='cuda:0'), tensor([ 1,  3, 18, 13, 40,  2,  3, 19], device='cuda:0'), tensor([ 1,  9,  3,  4,  8,  1, 18, 10], device='cuda:0'), tensor([18, 28, 18,  3, 18,  3,  3,  6], device='cuda:0'), tensor([ 3, 36,  1,  1, 18, 33, 18,  4], device='cuda:0'), tensor([36,  1,  3, 22,  8, 34, 18, 33], device='cuda:0'), tensor([19,  3,  1, 18, 18, 18,  1,  3], device='cuda:0'), tensor([ 4,  1, 18, 18, 33,  8, 42,  3], device='cuda:0'), tensor([ 1, 19, 13, 39,  3,  6, 18, 18], device='cuda:0'), tensor([22, 18,  4, 18,  4,  0, 39, 39], device='cuda:0'), tensor([ 1,  8, 39, 18, 18, 18,  2, 18], device='cuda:0'), tensor([18, 18,  4, 27,  8,  1,  4,  4], device='cuda:0'), tensor([ 1,  3, 18, 18,  3,  4, 18, 18], device='cuda:0'), tensor([ 9, 18,  1, 33,  1, 18,  3,  6], device='cuda:0'), tensor([ 2,  4, 34, 18,  3, 28,  4, 18], device='cuda:0'), tensor([18,  3, 18,  1, 30,  3,  6, 33], device='cuda:0'), tensor([ 1,  2,  3,  1,  3,  3, 18, 18], device='cuda:0'), tensor([ 3, 12,  3, 24,  3,  6, 13, 18], device='cuda:0'), tensor([18,  3,  3, 18, 13,  0, 11,  1], device='cuda:0'), tensor([32,  0, 18,  2,  4,  2, 33,  6], device='cuda:0'), tensor([18,  3,  3,  3,  4, 13, 18,  4], device='cuda:0'), tensor([ 3, 13, 10,  3,  3, 24, 18, 12], device='cuda:0'), tensor([19,  3, 33,  3, 26, 32, 13, 11], device='cuda:0'), tensor([ 3,  4, 19,  1,  0,  1, 13,  1], device='cuda:0'), tensor([13,  3, 19,  3,  4,  3, 18, 18], device='cuda:0'), tensor([ 3, 19, 13,  4,  4,  3,  1, 18], device='cuda:0'), tensor([18,  1, 20, 18, 13, 18, 18,  4], device='cuda:0'), tensor([ 7, 13,  9,  8,  3,  3,  1, 10], device='cuda:0'), tensor([ 1, 18,  3, 28, 18, 18, 11,  3], device='cuda:0'), tensor([ 3,  7,  3, 41, 19,  1,  3, 15], device='cuda:0'), tensor([18,  6,  1, 18, 18, 32, 18,  0], device='cuda:0'), tensor([ 3, 18,  8, 39, 19, 18, 18,  3], device='cuda:0'), tensor([ 2, 13,  4,  3, 18,  2,  3, 19], device='cuda:0'), tensor([ 6, 18,  3, 39,  7, 10,  3,  6], device='cuda:0'), tensor([18, 11, 18, 18,  8, 12, 18, 18], device='cuda:0'), tensor([13, 18, 18, 19,  4, 24,  8,  3], device='cuda:0'), tensor([32,  4,  3,  7, 19, 18, 18, 18], device='cuda:0'), tensor([ 8, 19, 18, 18, 18, 18,  1, 18], device='cuda:0'), tensor([ 4, 13, 36,  8,  6,  3,  1,  4], device='cuda:0'), tensor([ 3, 19,  1, 18, 18, 18, 18,  9], device='cuda:0'), tensor([ 3,  6,  1,  4, 33,  6,  4, 18], device='cuda:0'), tensor([ 4, 13,  6,  6,  3, 23, 13, 33], device='cuda:0'), tensor([ 3,  4,  4, 27,  1, 24, 18,  6], device='cuda:0'), tensor([ 3,  1,  1, 18, 40, 18, 13,  4], device='cuda:0'), tensor([ 3, 18,  3,  8,  3,  3,  1,  3], device='cuda:0'), tensor([ 2,  3, 18, 18, 18,  1, 18,  8], device='cuda:0'), tensor([ 3, 19,  8, 32,  8, 18, 18,  6], device='cuda:0'), tensor([ 4,  6,  4, 33,  1, 18, 33, 24], device='cuda:0'), tensor([32, 18,  1,  1, 18,  2, 24,  4], device='cuda:0'), tensor([ 3,  2, 32,  6,  2, 19,  3, 18], device='cuda:0'), tensor([18,  4,  3,  3,  7, 10, 10, 32], device='cuda:0'), tensor([39, 19, 18,  4, 13, 18,  3,  2], device='cuda:0'), tensor([13,  3,  3, 10,  3, 18, 10,  1], device='cuda:0'), tensor([18, 18, 13, 18,  4, 19, 18,  3], device='cuda:0'), tensor([ 4, 19, 18,  3, 18,  4,  3], device='cuda:0')]\n"
     ]
    }
   ],
   "source": [
    "print(y)"
   ]
  },
  {
   "cell_type": "code",
   "execution_count": 30,
   "id": "1456e897",
   "metadata": {},
   "outputs": [],
   "source": [
    "y_list_ = []\n",
    "pred_list_ = []\n",
    "for y_ in y:\n",
    "    y_list_.append(y_.tolist())\n",
    "    # pred_list_.append(pred_.tolist())\n",
    "for pred_ in y_pred:\n",
    "    pred_list_.append(pred_.tolist())"
   ]
  },
  {
   "cell_type": "code",
   "execution_count": 33,
   "id": "475cb2c6",
   "metadata": {},
   "outputs": [],
   "source": [
    "y_list = sum(y_list_, [])\n",
    "pred_list = sum(pred_list_, [])"
   ]
  },
  {
   "cell_type": "code",
   "execution_count": 38,
   "id": "d09e32fa",
   "metadata": {
    "scrolled": true
   },
   "outputs": [],
   "source": [
    "from sklearn.metrics import f1_score"
   ]
  },
  {
   "cell_type": "code",
   "execution_count": 39,
   "id": "93f66bf2",
   "metadata": {},
   "outputs": [],
   "source": [
    "f1score = f1_score(y_true=y_list, y_pred=pred_list, average='weighted')"
   ]
  },
  {
   "cell_type": "code",
   "execution_count": 40,
   "id": "163cc2de",
   "metadata": {},
   "outputs": [
    {
     "name": "stdout",
     "output_type": "stream",
     "text": [
      "0.9384124313364035\n"
     ]
    }
   ],
   "source": [
    "print(f1score)"
   ]
  },
  {
   "cell_type": "code",
   "execution_count": null,
   "id": "a71577ca",
   "metadata": {},
   "outputs": [],
   "source": []
  }
 ],
 "metadata": {
  "kernelspec": {
   "display_name": "nlp",
   "language": "python",
   "name": "nlp"
  },
  "language_info": {
   "codemirror_mode": {
    "name": "ipython",
    "version": 3
   },
   "file_extension": ".py",
   "mimetype": "text/x-python",
   "name": "python",
   "nbconvert_exporter": "python",
   "pygments_lexer": "ipython3",
   "version": "3.7.15"
  }
 },
 "nbformat": 4,
 "nbformat_minor": 5
}
