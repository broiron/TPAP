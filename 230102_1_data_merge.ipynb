{
 "cells": [
  {
   "cell_type": "code",
   "execution_count": 1,
   "id": "36131fe4",
   "metadata": {},
   "outputs": [],
   "source": [
    "import pandas as pd\n",
    "import re"
   ]
  },
  {
   "cell_type": "code",
   "execution_count": 2,
   "id": "6bf1ccaa",
   "metadata": {},
   "outputs": [],
   "source": [
    "pd.options.display.max_columns = 20"
   ]
  },
  {
   "cell_type": "code",
   "execution_count": 16,
   "id": "49a00173",
   "metadata": {
    "scrolled": false
   },
   "outputs": [
    {
     "name": "stderr",
     "output_type": "stream",
     "text": [
      "/home/r320/anaconda3/envs/nlp/lib/python3.7/site-packages/IPython/core/interactiveshell.py:3553: DtypeWarning: Columns (1,8,9,10,12,13,14,16,17) have mixed types.Specify dtype option on import or set low_memory=False.\n",
      "  exec(code_obj, self.user_global_ns, self.user_ns)\n"
     ]
    }
   ],
   "source": [
    "# df: 0530합본_new 전처리 하기 전 데이터 셋인듯 -> 명세서 정보\n",
    "df = pd.read_csv(\"0428sum_taxdata_cp949.csv\", encoding = 'cp949', index_col=0)\n",
    "\n",
    "# df_s: invoicer, invoicee 정보\n",
    "df_s = pd.read_csv(\"0503_raw_data.csv\", encoding=\"utf-8\") \n",
    "\n",
    "# df에서 두번째 list에 있는 column만 추출\n",
    "df_ = df.loc[:, ['상호', '업태',\n",
    "       '종목', '일자', '발급일자', '전송일자','거래처', '품명', '공급가액', '세액',\n",
    "       '상대계정', '승인번호']]"
   ]
  },
  {
   "cell_type": "code",
   "execution_count": 7,
   "id": "e1be90b1",
   "metadata": {},
   "outputs": [],
   "source": [
    "# pd.merge: 각 데이터에 존재하는 고유값(key)을 기준으로 병합할 때 사용\n",
    "# df_의 승인번호 ==  df_s의 issueID -> 이 key값을 기준으로 같은 row끼리 병합\n",
    "new_df = pd.merge(left=df_, right = df_s, how='left', left_on='승인번호', right_on = 'issueID')\n",
    "\n",
    "# issueID column에 null인 곳은 True로 아닌 곳은 false로 변환하고 이 df를 add_df에 저장\n",
    "add_df = new_df[new_df['issueID'].isnull()] "
   ]
  },
  {
   "cell_type": "code",
   "execution_count": 21,
   "id": "d2b35827",
   "metadata": {},
   "outputs": [
    {
     "name": "stdout",
     "output_type": "stream",
     "text": [
      "90\n"
     ]
    }
   ],
   "source": [
    "print(len(df['상대계정'].unique()))"
   ]
  },
  {
   "cell_type": "code",
   "execution_count": 8,
   "id": "6d5e310c",
   "metadata": {},
   "outputs": [],
   "source": [
    "# invoice: 거래상품명세서\n",
    "# 명세서 발급 받은 사람 정보: invoicee_info\n",
    "invoicee_info = df_s[['invoiceeID', 'invoiceeNametext',\n",
    "       'invoiceeSpecifiedPerson', 'invoiceeLineOneText', 'invoiceeTypeCode',\n",
    "       'invoiceeClassificationCode']]\n",
    "# 'invoiceeID' column값이 중복인 것들을 제거\n",
    "invoicee_info = invoicee_info.drop_duplicates(subset=['invoiceeID']) \n",
    "invoicee_info = invoicee_info.dropna()\n",
    "\n",
    "# 명세서 발행인 정보: invoicer_info\n",
    "# 'invoicerID' column값이 중복인 것들을 제거\n",
    "invoicer_info = df_s[['invoicerID', 'invoicerNametext',\n",
    "       'invoicerSpecifiedPerson', 'invoicerLineOneText', 'invoicerTypeCode',\n",
    "       'invoicerClassificationCode']]\n",
    "invoicer_info = invoicer_info.drop_duplicates(subset=['invoicerID'])\n",
    "invoicer_info = invoicer_info.dropna()\n",
    "\n",
    "invoicee_info.columns = ['ID', 'Nametext',\n",
    "       'SpecifiedPerson', 'LineOneText', 'TypeCode',\n",
    "       'ClassificationCode']\n",
    "invoicer_info.columns = ['ID', 'Nametext',\n",
    "       'SpecifiedPerson', 'LineOneText', 'TypeCode',\n",
    "       'ClassificationCode']\n",
    "\n",
    "# 정수 index를 가지고 있는 명세서 발급자, 명세서 발급받은 사람 정보를 담은 info pd를 생성\n",
    "# 두 df를 위아래로 병합하고 회사명('Nametext')이 중복되는 row는 제거\n",
    "# 최종적으로 상품명세서를 발급하거나 발급받은 회사에 대한 정보만 담고 있음\n",
    "info = pd.concat([invoicer_info, invoicee_info]).reset_index().iloc[:,1:]\n",
    "info = info.drop_duplicates(subset=['Nametext'])"
   ]
  },
  {
   "cell_type": "code",
   "execution_count": 9,
   "id": "cee28221",
   "metadata": {},
   "outputs": [],
   "source": [
    "info_add = pd.DataFrame([[2418500724,\n",
    " '세무법인동안(서초)',\n",
    " '정용식',\n",
    " '서울특별시 서초구 서초대로26길 3   4층401호(방배동)',\n",
    " '서비스(전문/과학및기술)업',\n",
    " '세무사'],\n",
    "[2418500724, '세무법인 동안', '정용식', '서울특별시 서초구 동광로 82  4층 1호(방배동)', '전문서비스업', '세무사업'],\n",
    "[1028142945,\n",
    " '(주)케이티',\n",
    " '구현모',\n",
    " '경기도 성남시 분당구 불정로 90',\n",
    " '통신업 부동산업',\n",
    " '전신전화 부가통신 임대'],\n",
    "[1028142945,\n",
    " '(주)케이티 ',\n",
    " '구현모',\n",
    " '경기도 성남시 분당구 불정로 90',\n",
    " '통신업 부동산업',\n",
    " '전신전화 부가통신 임대'],\n",
    " [1028142945,\n",
    " '주식회사케이티',\n",
    " '구현모',\n",
    " '경기도 성남시 분당구 불정로 90',\n",
    " '통신업 부동산업',\n",
    " '전신전화 부가통신 임대'],\n",
    "[2208139938,\n",
    " '（주）엘지유플러스',\n",
    " '하현회',\n",
    " '서울특별시 용산구 한강대로 32(한강로3가  엘지유플러스)',\n",
    " '출판 영상 방송통신 및 정보서비스업',\n",
    " '유선통신업'],\n",
    "[2208101733,\n",
    " '다우데이타',\n",
    " '이인복',\n",
    " '서울특별시 마포구 독막로 311 (염리동  재화스퀘어)5  11층',\n",
    " '서비스 외',\n",
    " 'S/W H/W개발공급자문임대 외'],\n",
    "[1318624222,\n",
    " '(주)금송로지스틱스',\n",
    " '김영희',\n",
    " '경기도 평택시 포승읍 평택항만길 86103호',\n",
    " '서비스',\n",
    " '복합운송주선업'],\n",
    "[0, 'OK주유소', '', '', '도매 및 소매업', '주유소'],\n",
    "[2208794836, '（주）인애', '안재진', '서울특별시 서초구 고무래로 6-5(반포동)', '서비스', '광고대행'],\n",
    "[0,\n",
    " '(주)에스원 아산',\n",
    " ' ',\n",
    " ' ',\n",
    " '통신  사업서비스업',\n",
    " '전기경보및 신호  경비'],\n",
    " [0,\n",
    " '(주)에스원 서강',\n",
    " ' ',\n",
    " ' ',\n",
    " '통신  사업서비스업',\n",
    " '전기경보및 신호  경비'],\n",
    "  [0,\n",
    " '(주)에스원 본사',\n",
    " ' ',\n",
    " ' ',\n",
    " '통신  사업서비스업',\n",
    " '전기경보및 신호  경비'],\n",
    "  [0,\n",
    " '(주)에스원 경기광주',\n",
    " ' ',\n",
    " ' ',\n",
    " '통신  사업서비스업',\n",
    " '전기경보및 신호  경비'],\n",
    "    [0,\n",
    " '(주)에스원 부천',\n",
    " ' ',\n",
    " ' ',\n",
    " '통신  사업서비스업',\n",
    " '전기경보및 신호  경비'],\n",
    "[1408504994,\n",
    " '(주)에이디티캡스시흥',\n",
    " '최진환',\n",
    " '경기도 시흥시 옥구상가1길 15-1 청한빌딩 5층 (정왕동)',\n",
    " '서비스',\n",
    " '무인경비외'],\n",
    "[1068635117,\n",
    " '（주）마인드온 ',\n",
    " '이종학',\n",
    " '서울특별시 용산구 원효로 152-1 (원효로3가) 원기빌딩 202호',\n",
    " '도소매',\n",
    " '소프트웨어외'],\n",
    "[6068188569,\n",
    " '(주)디모아',\n",
    " '이혁수 이장훈',\n",
    " '서울시 강남구 언주로 726 11층 (논현동 두산빌딩)',\n",
    " '서비스  도소매',\n",
    " 'S/W H/W개발및공급'],\n",
    "[2208742885, '(주)야놀자(본사)', '이수진', '서울시 강남구 테헤란로 108길 42', '서비스', '온라인정보제공업'],\n",
    "                    [0,\n",
    " '형제전기(주) - 시화',\n",
    " ' ',\n",
    " ' ',\n",
    " '제조 도매',\n",
    " '전기자재'],\n",
    "                    [1258506450,\n",
    " '㈜에이디티캡스평택',\n",
    " '박진효',\n",
    " '경기도 평택시 서재로 7  3층(동삭동  주영빌딩)',\n",
    " '서비스',\n",
    " '무인경비외'],\n",
    "                    [5428501005,\n",
    " '(주)에이디티캡스 금천지점',\n",
    " '박진효',\n",
    " '서울특별시 금천구 가산디지털1로 181  11층 1101~1104호',\n",
    " '서비스',\n",
    " '무인경비외'],\n",
    "                                        [0,\n",
    " '(주)에이디티캡스 하남지점',\n",
    " ' ',\n",
    " ' ',\n",
    " '서비스',\n",
    " '무인경비외'],\n",
    "                     [1348203927,\n",
    " '(재)경기테크노파크(임대보증금)',\n",
    " '배수용',\n",
    " '(15588)경기도 안산시 상록구 해안로 705 (사동  경기테크노파크) 지원편의동 228호 시설운영팀',\n",
    " '서비스업  부동산임대업',\n",
    " '임대  연구용역 외'], \n",
    "                      [2048653952,\n",
    " '(주)윤건세라믹',\n",
    " '노경석',\n",
    " '경기도 하남시 샘재로119번길 179(천현동)',\n",
    " '도매 및 소매업',\n",
    " '위생도기'],[2288700502,\n",
    " '유한회사클린산업',\n",
    " '김기호',\n",
    " '광주광역시 광산구 체암로 1612(양동)',\n",
    " '도매 및 소매업',\n",
    " '전기자재 철재료및기타자재'],[2721500972, '베짱이노래연습장', \n",
    "'이병주', '경기 성남시 중원구 광명로 312 2층 (금광동)', '오락문화등', '노래방'],\n",
    "                     [1348194528,\n",
    " '(주)로드텍',\n",
    " '문형철',\n",
    " '경기도 안산시 상록구 해안로 705(사동  경기테크노파크 RIT센터 203 204 205호)',\n",
    " '제조업',\n",
    " '측량기구/도로포장상태조사장비개발/계측기기'],[7528600124, '(주)유니크시스템', \n",
    "'주재희', '경기도 포천시 군내면 용정경제로2길 62-0', '건설업외', '창호공사외'],\n",
    "  [4258700592, '(주)에스엠실업', '전덕자', '서울특별시 동대문구 답십리동 494-5  464-6호', '부동산', '임대'],\n",
    "    [3148643839,\n",
    " '(주)문화유산기술연구소',\n",
    " '김지교 외 1 명',\n",
    " '대전광역시 중구 계룡로 839(용두동  문화유산기술연구소)',\n",
    " '서비스',\n",
    " '문화유산디지털복원업'],[1304394015,\n",
    " '(주)파이오니크',\n",
    " '장인자',\n",
    " '경기 광명시 안현로 34 307동 303호 (하안동 하',\n",
    " '제조업',\n",
    " '시제품(모형)'],[1198144562,\n",
    " '호마종합통상',\n",
    " '강순동',\n",
    " '서울 금천구 시흥대로28길35-6  2층(시흥동 945-36번지 호마빌딩)',\n",
    " '도소매 제조 서비스',\n",
    " '공작기계 오퍼'],[6798700049, '(주)씨앤아이솔루션', '김은진', '경기도 평택시 진위면 은산길 30', '제조업', '반도체부품가공업'],\n",
    "                     [5668100964,\n",
    " '(주)아이디주택',\n",
    " '박성수',\n",
    " '서울특별시 강서구 공항대로 46  지층 1호(공항동)',\n",
    " '건설업',\n",
    " '철근콘크리트공사'],[2208814921,\n",
    " '제이케이앤(주)',\n",
    " '안재진',\n",
    " '서울특별시 서초구 고무래로6-5  (반포동)',\n",
    " '서비스 출판 소매',\n",
    " '광고  홍보마케팅  신문 외'],\n",
    "                     [1080153598,\n",
    " 'DSP(디에스피)',\n",
    " '최성수',\n",
    " '서울특별시 중구 마른내로6길 29-5(인현동2가  2층)',\n",
    " '제조',\n",
    " '인쇄'],\n",
    "                     [1718200026,\n",
    " '의료법인 성누가의료재단',\n",
    " '이영석',\n",
    " '서울특별시 은평구 통일로 726 불광메디컬타워 (불광동)',\n",
    " '서비스 도매및소매업',\n",
    " '병원 건강보조식품 소매업'],\n",
    "                     [1068710729,\n",
    " '(주)럭스로보',\n",
    " '오상훈',\n",
    " '서울특별시 강남구 강남대로 311   1306~8 주식회사 럭스로보',\n",
    " '제조업',\n",
    " '교구및교육용로봇제조업'],[1078163208, '(주)동양보일러뱅크', \n",
    "                 '도창교', '경기도 화성시 장안면 석포공단길 2', '제조', '산업보일러'], # 추가\n",
    "  [0, '주식회사 미드텍', \" \", \" \", \"제조업\", \"전기자동제어,설비\"],\n",
    "  [0, '주식회사 치즈앤', \" \", \" \", \"정보통신업\", \"영상물제작외\"],\n",
    "  [0, '주식회사 윤폴리머', \" \", \" \", \"도매 및 상품중개\", \"플라스틱판제\"],\n",
    "  [0, '(주)제이티에스', \" \", \" \", \"제조\", \"프레스금형\"],\n",
    "  [0, '(주)거상푸드시스템', \" \", \" \", \"도매,제조\", \"식자재유통,식자재\"],\n",
    "  [0, '(주)누리시스템스', \" \", \" \", \"서비스(전문/과학)\", \"중재및공공관계서\"],\n",
    "                         \n",
    "  [0, '(주)케이원테크', \" \", \" \", \"제조업\", \"반도체장비제작\"],\n",
    "  [0, '(주)다한축산', \" \", \" \", \"도매 및 상품중개\", \"축산물(일반)\"],\n",
    "  [0, '주식회사 씨앤세스시스템즈', \" \", \" \", \"도소매,제조,전문과\", \"전기,전자,반도체건\"],\n",
    "  [0, '꽉찬만두', \" \", \" \", \"음식\", \"만두\"],\n",
    "  [0, '주식회사 베이글랩스(BagelLabsco.Ltd.)', \" \", \" \", \"제조업,도매및소매\", \"전자기기및부품개발\"],\n",
    "  [0, '(주)서정툴링', \" \", \" \", \"도매\", \"기계공구외\"],\n",
    "                         \n",
    "                        ],\n",
    "\n",
    " columns = ['ID', 'Nametext', 'SpecifiedPerson', 'LineOneText', 'TypeCode',\n",
    "       'ClassificationCode'],)\n",
    "\n"
   ]
  },
  {
   "cell_type": "code",
   "execution_count": 10,
   "id": "19815153",
   "metadata": {},
   "outputs": [],
   "source": [
    "info_new = pd.concat([info, info_add]) # 새로운 invoicer | invoicee 정보 추가"
   ]
  },
  {
   "cell_type": "code",
   "execution_count": 11,
   "id": "ed03dddf",
   "metadata": {},
   "outputs": [
    {
     "data": {
      "text/html": [
       "<div>\n",
       "<style scoped>\n",
       "    .dataframe tbody tr th:only-of-type {\n",
       "        vertical-align: middle;\n",
       "    }\n",
       "\n",
       "    .dataframe tbody tr th {\n",
       "        vertical-align: top;\n",
       "    }\n",
       "\n",
       "    .dataframe thead th {\n",
       "        text-align: right;\n",
       "    }\n",
       "</style>\n",
       "<table border=\"1\" class=\"dataframe\">\n",
       "  <thead>\n",
       "    <tr style=\"text-align: right;\">\n",
       "      <th></th>\n",
       "      <th>ID</th>\n",
       "      <th>Nametext</th>\n",
       "      <th>SpecifiedPerson</th>\n",
       "      <th>LineOneText</th>\n",
       "      <th>TypeCode</th>\n",
       "      <th>ClassificationCode</th>\n",
       "    </tr>\n",
       "  </thead>\n",
       "  <tbody>\n",
       "    <tr>\n",
       "      <th>0</th>\n",
       "      <td>8808101059</td>\n",
       "      <td>주식회사 모닝상사</td>\n",
       "      <td>김영의</td>\n",
       "      <td>인천 인천 부평구 백범로 577번길 15-12</td>\n",
       "      <td>도소매업 제조업</td>\n",
       "      <td>작업복 안전용품 청소용품 외</td>\n",
       "    </tr>\n",
       "    <tr>\n",
       "      <th>1</th>\n",
       "      <td>1028123104</td>\n",
       "      <td>알파색채(주)</td>\n",
       "      <td>남궁요숙</td>\n",
       "      <td>서울시 종로구 평창8길 12</td>\n",
       "      <td>제조업 도매</td>\n",
       "      <td>화학용물감  무역</td>\n",
       "    </tr>\n",
       "    <tr>\n",
       "      <th>2</th>\n",
       "      <td>1058652618</td>\n",
       "      <td>(주) 앤비젼</td>\n",
       "      <td>김덕표</td>\n",
       "      <td>서울특별시 금천구 가산디지털 2로 98 1-603 (가산동  아이티캐슬)</td>\n",
       "      <td>제조 도매 서비스</td>\n",
       "      <td>컴퓨터주변기기 전자부품 SW자문</td>\n",
       "    </tr>\n",
       "    <tr>\n",
       "      <th>3</th>\n",
       "      <td>2208139938</td>\n",
       "      <td>㈜LG유플러스</td>\n",
       "      <td>하현회</td>\n",
       "      <td>서울시 용산구 한강대로 32</td>\n",
       "      <td>통신 제조 도매 소매 서비스업</td>\n",
       "      <td>개인휴대통신외</td>\n",
       "    </tr>\n",
       "    <tr>\n",
       "      <th>4</th>\n",
       "      <td>1238146502</td>\n",
       "      <td>(주)공진</td>\n",
       "      <td>윤규중 윤지우</td>\n",
       "      <td>경기도 군포시 당정로 10 (당정동)</td>\n",
       "      <td>제조업</td>\n",
       "      <td>산업용핸들외</td>\n",
       "    </tr>\n",
       "  </tbody>\n",
       "</table>\n",
       "</div>"
      ],
      "text/plain": [
       "           ID   Nametext SpecifiedPerson  \\\n",
       "0  8808101059  주식회사 모닝상사             김영의   \n",
       "1  1028123104    알파색채(주)            남궁요숙   \n",
       "2  1058652618    (주) 앤비젼             김덕표   \n",
       "3  2208139938    ㈜LG유플러스             하현회   \n",
       "4  1238146502      (주)공진         윤규중 윤지우   \n",
       "\n",
       "                                LineOneText          TypeCode  \\\n",
       "0                 인천 인천 부평구 백범로 577번길 15-12          도소매업 제조업   \n",
       "1                           서울시 종로구 평창8길 12            제조업 도매   \n",
       "2  서울특별시 금천구 가산디지털 2로 98 1-603 (가산동  아이티캐슬)         제조 도매 서비스   \n",
       "3                           서울시 용산구 한강대로 32  통신 제조 도매 소매 서비스업   \n",
       "4                      경기도 군포시 당정로 10 (당정동)               제조업   \n",
       "\n",
       "  ClassificationCode  \n",
       "0    작업복 안전용품 청소용품 외  \n",
       "1          화학용물감  무역  \n",
       "2  컴퓨터주변기기 전자부품 SW자문  \n",
       "3            개인휴대통신외  \n",
       "4             산업용핸들외  "
      ]
     },
     "execution_count": 11,
     "metadata": {},
     "output_type": "execute_result"
    }
   ],
   "source": [
    "info_new.head()"
   ]
  },
  {
   "cell_type": "code",
   "execution_count": 12,
   "id": "eff0bd1f",
   "metadata": {},
   "outputs": [
    {
     "data": {
      "text/plain": [
       "13660"
      ]
     },
     "execution_count": 12,
     "metadata": {},
     "output_type": "execute_result"
    }
   ],
   "source": [
    "len(info_new)"
   ]
  },
  {
   "cell_type": "code",
   "execution_count": 13,
   "id": "c896b665",
   "metadata": {},
   "outputs": [],
   "source": [
    "new_df1 = pd.merge(left=new_df[['상호', '업태', '종목', '일자', '발급일자', '전송일자', '거래처', '품명', '공급가액', '세액',\n",
    "       '상대계정', '승인번호']], right = info_new, how='left', left_on='거래처', right_on = 'Nametext')"
   ]
  },
  {
   "cell_type": "code",
   "execution_count": 17,
   "id": "0e6a3892",
   "metadata": {},
   "outputs": [
    {
     "name": "stdout",
     "output_type": "stream",
     "text": [
      "38138\n",
      "13660\n"
     ]
    }
   ],
   "source": [
    "print(len(new_df1))\n",
    "\n",
    "print(len(info_new))"
   ]
  },
  {
   "cell_type": "code",
   "execution_count": 16,
   "id": "daa9a1a1",
   "metadata": {},
   "outputs": [
    {
     "data": {
      "text/plain": [
       "14357"
      ]
     },
     "execution_count": 16,
     "metadata": {},
     "output_type": "execute_result"
    }
   ],
   "source": [
    "new_df1['Nametext'].isnull().sum() # Nametext가 null이다 == invoice 정보가 없는 row이다?"
   ]
  },
  {
   "cell_type": "code",
   "execution_count": 23,
   "id": "8de20389",
   "metadata": {
    "scrolled": false
   },
   "outputs": [
    {
     "data": {
      "text/plain": [
       "38138"
      ]
     },
     "execution_count": 23,
     "metadata": {},
     "output_type": "execute_result"
    }
   ],
   "source": [
    "len(new_df1)"
   ]
  },
  {
   "cell_type": "code",
   "execution_count": 24,
   "id": "cc5d0132",
   "metadata": {
    "scrolled": true
   },
   "outputs": [
    {
     "data": {
      "text/plain": [
       "Index(['상호', '업태', '종목', '일자', '발급일자', '전송일자', '거래처', '품명', '공급가액', '세액',\n",
       "       '상대계정', '승인번호', 'ID', 'Nametext', 'SpecifiedPerson', 'LineOneText',\n",
       "       'TypeCode', 'ClassificationCode'],\n",
       "      dtype='object')"
      ]
     },
     "execution_count": 24,
     "metadata": {},
     "output_type": "execute_result"
    }
   ],
   "source": [
    "new_df1.columns"
   ]
  },
  {
   "cell_type": "markdown",
   "id": "94b36241",
   "metadata": {},
   "source": [
    "### (주) 특수기호 때문에 회사 명이 매치가 안되는 형상 발생한듯. 그래서 특수기호를 바꿔줌"
   ]
  },
  {
   "cell_type": "code",
   "execution_count": 28,
   "id": "0aa26ba5",
   "metadata": {
    "scrolled": true
   },
   "outputs": [],
   "source": [
    "# new_df1 : column 이름 바꿈 , 상호 (주) 특수기호 바꿈\n",
    "\n",
    "new_df2 = new_df1.copy() # deep copy\n",
    "# new_df2 = new_df1[['상호', '업태', '종목', '일자', '발급일자', '전송일자', '거래처', '품명', '공급가액', '세액',\n",
    "#        '상대계정', '승인번호', 'invoicerID', 'invoicerNametext',\n",
    "#        'invoicerSpecifiedPerson', 'invoicerLineOneText', 'invoicerTypeCode',\n",
    "#        'invoicerClassificationCode',]].copy()\n",
    "\n",
    "# new_df2.columns = ['상호', '업태', '종목', '일자', '발급일자', '전송일자', '거래처', '품명', '공급가액', '세액',\n",
    "#        '상대계정', '승인번호', 'ID', 'Nametext', 'SpecifiedPerson', 'LineOneText',\n",
    "#        'TypeCode', 'ClassificationCode']\n",
    "\n",
    "new_df2['상호'] = new_df2['상호'].str.replace(\"㈜\", \"(주)\")\n",
    "\n",
    "new_df3 = pd.merge(left=new_df2, right = info_new, how='left', left_on='상호', right_on = 'Nametext')"
   ]
  },
  {
   "cell_type": "code",
   "execution_count": 29,
   "id": "58c9f87d",
   "metadata": {},
   "outputs": [
    {
     "data": {
      "text/plain": [
       "Index(['상호', '업태', '종목', '일자', '발급일자', '전송일자', '거래처', '품명', '공급가액', '세액',\n",
       "       '상대계정', '승인번호', 'ID_x', 'Nametext_x', 'SpecifiedPerson_x',\n",
       "       'LineOneText_x', 'TypeCode_x', 'ClassificationCode_x', 'ID_y',\n",
       "       'Nametext_y', 'SpecifiedPerson_y', 'LineOneText_y', 'TypeCode_y',\n",
       "       'ClassificationCode_y'],\n",
       "      dtype='object')"
      ]
     },
     "execution_count": 29,
     "metadata": {},
     "output_type": "execute_result"
    }
   ],
   "source": [
    "new_df3.columns"
   ]
  },
  {
   "cell_type": "code",
   "execution_count": 30,
   "id": "da4f2754",
   "metadata": {},
   "outputs": [
    {
     "data": {
      "text/plain": [
       "0"
      ]
     },
     "execution_count": 30,
     "metadata": {},
     "output_type": "execute_result"
    }
   ],
   "source": [
    "# match 안되는 row 없음\n",
    "new_df3['Nametext_y'].isnull().sum()"
   ]
  },
  {
   "cell_type": "code",
   "execution_count": 33,
   "id": "7d11488f",
   "metadata": {},
   "outputs": [
    {
     "data": {
      "text/plain": [
       "53"
      ]
     },
     "execution_count": 33,
     "metadata": {},
     "output_type": "execute_result"
    }
   ],
   "source": [
    "len(new_df3['상호'].unique()) # 53개의 상호"
   ]
  },
  {
   "cell_type": "code",
   "execution_count": 34,
   "id": "a03761e1",
   "metadata": {},
   "outputs": [],
   "source": [
    "name = new_df3['상호'].unique()\n",
    "\n",
    "info_name = set(info_new['Nametext'].unique()) # 상호명 info_name에 저장\n",
    "for n in name:\n",
    "    if n not in info_name:\n",
    "        print(n) # 상호명 모두 match 됌"
   ]
  },
  {
   "cell_type": "code",
   "execution_count": 35,
   "id": "25f4bdb2",
   "metadata": {},
   "outputs": [
    {
     "data": {
      "text/plain": [
       "상호                                      (주)케이원테크\n",
       "업태                                           제조업\n",
       "종목                                       반도체장비제작\n",
       "일자                                         01-05\n",
       "발급일자                                  2019-02-08\n",
       "전송일자                                  2019-02-08\n",
       "거래처                                 에스케이브로드밴드(주)\n",
       "품명                        통신요금 UKEY-616939458609\n",
       "공급가액                                       45000\n",
       "세액                                          4500\n",
       "상대계정                                         통신비\n",
       "승인번호                    2019010550000066s8264514\n",
       "ID_x                                         NaN\n",
       "Nametext_x                                   NaN\n",
       "SpecifiedPerson_x                            NaN\n",
       "LineOneText_x                                NaN\n",
       "TypeCode_x                                   NaN\n",
       "ClassificationCode_x                         NaN\n",
       "ID_y                                           0\n",
       "Nametext_y                              (주)케이원테크\n",
       "SpecifiedPerson_y                               \n",
       "LineOneText_y                                   \n",
       "TypeCode_y                                   제조업\n",
       "ClassificationCode_y                     반도체장비제작\n",
       "Name: 12003, dtype: object"
      ]
     },
     "execution_count": 35,
     "metadata": {},
     "output_type": "execute_result"
    }
   ],
   "source": [
    "new_df3[new_df3['상호'] == '(주)케이원테크'].iloc[1]"
   ]
  },
  {
   "cell_type": "code",
   "execution_count": 36,
   "id": "f72f731d",
   "metadata": {},
   "outputs": [],
   "source": [
    "new_df4 = new_df3[~new_df3['Nametext_x'].isnull()].copy()"
   ]
  },
  {
   "cell_type": "code",
   "execution_count": 39,
   "id": "ec078c65",
   "metadata": {
    "scrolled": true
   },
   "outputs": [
    {
     "data": {
      "text/plain": [
       "1913"
      ]
     },
     "execution_count": 39,
     "metadata": {},
     "output_type": "execute_result"
    }
   ],
   "source": [
    "len(new_df4['Nametext_x'].unique())"
   ]
  },
  {
   "cell_type": "code",
   "execution_count": 40,
   "id": "45bc71d7",
   "metadata": {},
   "outputs": [
    {
     "data": {
      "text/plain": [
       "Index(['상호', '업태', '종목', '일자', '발급일자', '전송일자', '거래처', '품명', '공급가액', '세액',\n",
       "       '상대계정', '승인번호', 'ID_x', 'Nametext_x', 'SpecifiedPerson_x',\n",
       "       'LineOneText_x', 'TypeCode_x', 'ClassificationCode_x', 'ID_y',\n",
       "       'Nametext_y', 'SpecifiedPerson_y', 'LineOneText_y', 'TypeCode_y',\n",
       "       'ClassificationCode_y'],\n",
       "      dtype='object')"
      ]
     },
     "execution_count": 40,
     "metadata": {},
     "output_type": "execute_result"
    }
   ],
   "source": [
    "new_df4.columns"
   ]
  },
  {
   "cell_type": "code",
   "execution_count": 41,
   "id": "792ee6d5",
   "metadata": {},
   "outputs": [
    {
     "data": {
      "text/plain": [
       "\"Index(['상호', '업태', '종목', '일자', '발급일자', '전송일자', '거래처', '품명', '공급가액', '세액','상대계정', '승인번호', 'ID_invoicer', 'Nametext_invoicer', 'SpecifiedPerson_invoicer',       'LineOneText_invoicer', 'TypeCode_invoicer', 'ClassificationCode_invoicer', 'ID_invoicee',       'Nametext_invoicee', 'SpecifiedPerson_invoicee', 'LineOneText_invoicee', 'TypeCode_invoicee',       'ClassificationCode_invoicee'],      dtype='object')\""
      ]
     },
     "execution_count": 41,
     "metadata": {},
     "output_type": "execute_result"
    }
   ],
   "source": [
    "\"\"\"Index(['상호', '업태', '종목', '일자', '발급일자', '전송일자', '거래처', '품명', '공급가액', '세액',\n",
    "'상대계정', '승인번호', 'ID_x', 'Nametext_x', 'SpecifiedPerson_x',\n",
    "       'LineOneText_x', 'TypeCode_x', 'ClassificationCode_x', 'ID_y',\n",
    "       'Nametext_y', 'SpecifiedPerson_y', 'LineOneText_y', 'TypeCode_y',\n",
    "       'ClassificationCode_y'],\n",
    "      dtype='object')\"\"\".replace(\"_y\", \"_invoicee\").replace(\"_x\", \"_invoicer\").replace(\"\\n\", \"\")"
   ]
  },
  {
   "cell_type": "code",
   "execution_count": 42,
   "id": "290f221b",
   "metadata": {},
   "outputs": [],
   "source": [
    "new_df4.columns = ['상호', '업태', '종목', '일자', '발급일자', '전송일자', '거래처', '품명', '공급가액', '세액','상대계정', '승인번호', \n",
    "                   'ID_invoicer', 'Nametext_invoicer', 'SpecifiedPerson_invoicer',   \n",
    "                   'LineOneText_invoicer', 'TypeCode_invoicer', 'ClassificationCode_invoicer', 'ID_invoicee',   \n",
    "                   'Nametext_invoicee', 'SpecifiedPerson_invoicee', 'LineOneText_invoicee', 'TypeCode_invoicee',       \n",
    "                   'ClassificationCode_invoicee']\n",
    "\n"
   ]
  },
  {
   "cell_type": "code",
   "execution_count": 44,
   "id": "2de036b8",
   "metadata": {},
   "outputs": [
    {
     "data": {
      "text/plain": [
       "23781"
      ]
     },
     "execution_count": 44,
     "metadata": {},
     "output_type": "execute_result"
    }
   ],
   "source": [
    "len(new_df4) # 전처리 완료된 Dataset"
   ]
  },
  {
   "cell_type": "markdown",
   "id": "ff1abff7",
   "metadata": {},
   "source": [
    "# 최종본"
   ]
  },
  {
   "cell_type": "code",
   "execution_count": 438,
   "id": "da7a504d",
   "metadata": {},
   "outputs": [
    {
     "data": {
      "text/html": [
       "<div>\n",
       "<style scoped>\n",
       "    .dataframe tbody tr th:only-of-type {\n",
       "        vertical-align: middle;\n",
       "    }\n",
       "\n",
       "    .dataframe tbody tr th {\n",
       "        vertical-align: top;\n",
       "    }\n",
       "\n",
       "    .dataframe thead th {\n",
       "        text-align: right;\n",
       "    }\n",
       "</style>\n",
       "<table border=\"1\" class=\"dataframe\">\n",
       "  <thead>\n",
       "    <tr style=\"text-align: right;\">\n",
       "      <th></th>\n",
       "      <th>상호</th>\n",
       "      <th>업태</th>\n",
       "      <th>종목</th>\n",
       "      <th>일자</th>\n",
       "      <th>발급일자</th>\n",
       "      <th>전송일자</th>\n",
       "      <th>거래처</th>\n",
       "      <th>품명</th>\n",
       "      <th>공급가액</th>\n",
       "      <th>세액</th>\n",
       "      <th>상대계정</th>\n",
       "      <th>승인번호</th>\n",
       "      <th>ID</th>\n",
       "      <th>Nametext</th>\n",
       "      <th>SpecifiedPerson</th>\n",
       "      <th>LineOneText</th>\n",
       "      <th>TypeCode</th>\n",
       "      <th>ClassificationCode</th>\n",
       "    </tr>\n",
       "  </thead>\n",
       "  <tbody>\n",
       "    <tr>\n",
       "      <th>0</th>\n",
       "      <td>왓츠 주식회사</td>\n",
       "      <td>서비스/도소매/소</td>\n",
       "      <td>소프트웨어자문개발</td>\n",
       "      <td>01-01</td>\n",
       "      <td>2020-02-10</td>\n",
       "      <td>2020-02-10</td>\n",
       "      <td>(주)대륜이엔에스</td>\n",
       "      <td>도시가스 요금</td>\n",
       "      <td>60823</td>\n",
       "      <td>6082</td>\n",
       "      <td>수도광열비</td>\n",
       "      <td>2020010150000034f4zyptsp</td>\n",
       "      <td>2.178116e+09</td>\n",
       "      <td>(주)대륜이엔에스</td>\n",
       "      <td>전동수</td>\n",
       "      <td>서울시 노원구 덕릉로70길 20(상계동)</td>\n",
       "      <td>제조도소매</td>\n",
       "      <td>도시가스제조및공급업</td>\n",
       "    </tr>\n",
       "    <tr>\n",
       "      <th>1</th>\n",
       "      <td>왓츠 주식회사</td>\n",
       "      <td>서비스/도소매/소</td>\n",
       "      <td>소프트웨어자문개발</td>\n",
       "      <td>01-06</td>\n",
       "      <td>2020-01-28</td>\n",
       "      <td>2020-01-30</td>\n",
       "      <td>주식회사 케이티</td>\n",
       "      <td>기가 인터넷 최대 1G (z!22572238130)</td>\n",
       "      <td>45000</td>\n",
       "      <td>4500</td>\n",
       "      <td>통신비</td>\n",
       "      <td>2020010650000002j8538464</td>\n",
       "      <td>1.028143e+09</td>\n",
       "      <td>주식회사 케이티</td>\n",
       "      <td>황창규</td>\n",
       "      <td>경기도 성남시 분당구 불정로 90</td>\n",
       "      <td>통신업 부동산업</td>\n",
       "      <td>전신전화 부가통신 임대</td>\n",
       "    </tr>\n",
       "    <tr>\n",
       "      <th>2</th>\n",
       "      <td>왓츠 주식회사</td>\n",
       "      <td>서비스/도소매/소</td>\n",
       "      <td>소프트웨어자문개발</td>\n",
       "      <td>01-07</td>\n",
       "      <td>2020-01-07</td>\n",
       "      <td>2020-01-07</td>\n",
       "      <td>세빛조명</td>\n",
       "      <td>조명기구</td>\n",
       "      <td>88000</td>\n",
       "      <td>8800</td>\n",
       "      <td>소모품비</td>\n",
       "      <td>202001071000000014438566</td>\n",
       "      <td>6.042450e+09</td>\n",
       "      <td>세빛조명</td>\n",
       "      <td>정연순</td>\n",
       "      <td>서울특별시 강북구 인수봉로77길 29  1층(수유동)</td>\n",
       "      <td>도매 및 소매업</td>\n",
       "      <td>조명기구</td>\n",
       "    </tr>\n",
       "    <tr>\n",
       "      <th>3</th>\n",
       "      <td>왓츠 주식회사</td>\n",
       "      <td>서비스/도소매/소</td>\n",
       "      <td>소프트웨어자문개발</td>\n",
       "      <td>01-08</td>\n",
       "      <td>2020-01-28</td>\n",
       "      <td>2020-01-30</td>\n",
       "      <td>주식회사 케이티</td>\n",
       "      <td>일반전화 (000204583123)</td>\n",
       "      <td>3800</td>\n",
       "      <td>380</td>\n",
       "      <td>통신비</td>\n",
       "      <td>2020010850000002a1250084</td>\n",
       "      <td>1.028143e+09</td>\n",
       "      <td>주식회사 케이티</td>\n",
       "      <td>황창규</td>\n",
       "      <td>경기도 성남시 분당구 불정로 90</td>\n",
       "      <td>통신업 부동산업</td>\n",
       "      <td>전신전화 부가통신 임대</td>\n",
       "    </tr>\n",
       "    <tr>\n",
       "      <th>4</th>\n",
       "      <td>왓츠 주식회사</td>\n",
       "      <td>서비스/도소매/소</td>\n",
       "      <td>소프트웨어자문개발</td>\n",
       "      <td>01-15</td>\n",
       "      <td>2020-01-15</td>\n",
       "      <td>2020-01-16</td>\n",
       "      <td>원스토어 주식회사</td>\n",
       "      <td>12월 원스토어㈜ 상품 판매 서비스이용료</td>\n",
       "      <td>1200</td>\n",
       "      <td>120</td>\n",
       "      <td>지급수수료</td>\n",
       "      <td>202001154100017730001230</td>\n",
       "      <td>8.568600e+09</td>\n",
       "      <td>원스토어 주식회사</td>\n",
       "      <td>이재환</td>\n",
       "      <td>경기도 성남시 분당구 판교역로 146번길 20(백현동)</td>\n",
       "      <td>서비스</td>\n",
       "      <td>부가통신</td>\n",
       "    </tr>\n",
       "    <tr>\n",
       "      <th>...</th>\n",
       "      <td>...</td>\n",
       "      <td>...</td>\n",
       "      <td>...</td>\n",
       "      <td>...</td>\n",
       "      <td>...</td>\n",
       "      <td>...</td>\n",
       "      <td>...</td>\n",
       "      <td>...</td>\n",
       "      <td>...</td>\n",
       "      <td>...</td>\n",
       "      <td>...</td>\n",
       "      <td>...</td>\n",
       "      <td>...</td>\n",
       "      <td>...</td>\n",
       "      <td>...</td>\n",
       "      <td>...</td>\n",
       "      <td>...</td>\n",
       "      <td>...</td>\n",
       "    </tr>\n",
       "    <tr>\n",
       "      <th>26934</th>\n",
       "      <td>주식회사 씨앤세스시스템즈</td>\n",
       "      <td>도소매,제조,전문과</td>\n",
       "      <td>전기,전자,반도체건</td>\n",
       "      <td>12-26</td>\n",
       "      <td>2019-12-26</td>\n",
       "      <td>2019-12-26</td>\n",
       "      <td>티와이이앤씨 주식회사</td>\n",
       "      <td>컨설팅(배기)</td>\n",
       "      <td>3000000</td>\n",
       "      <td>300000</td>\n",
       "      <td>지급수수료</td>\n",
       "      <td>201912261000000091862024</td>\n",
       "      <td>8.758601e+09</td>\n",
       "      <td>티와이이앤씨 주식회사</td>\n",
       "      <td>탁영용</td>\n",
       "      <td>경기도 수원시 권선구 오목천로152번길 16  4층(고색동)</td>\n",
       "      <td>도매 및 상품중개업</td>\n",
       "      <td>기타중개업</td>\n",
       "    </tr>\n",
       "    <tr>\n",
       "      <th>26935</th>\n",
       "      <td>주식회사 씨앤세스시스템즈</td>\n",
       "      <td>도소매,제조,전문과</td>\n",
       "      <td>전기,전자,반도체건</td>\n",
       "      <td>12-26</td>\n",
       "      <td>2019-12-27</td>\n",
       "      <td>2019-12-28</td>\n",
       "      <td>특허법인뉴코리아</td>\n",
       "      <td>특허등록비용(10-2019-105231)</td>\n",
       "      <td>1500000</td>\n",
       "      <td>150000</td>\n",
       "      <td>지급수수료</td>\n",
       "      <td>2019122641000115a144fs2x</td>\n",
       "      <td>4.228601e+09</td>\n",
       "      <td>특허법인뉴코리아</td>\n",
       "      <td>조인제</td>\n",
       "      <td>서울시 강남구 논현로87길 15-6  7층(역삼동)</td>\n",
       "      <td>서비스</td>\n",
       "      <td>변리사외</td>\n",
       "    </tr>\n",
       "    <tr>\n",
       "      <th>26936</th>\n",
       "      <td>주식회사 씨앤세스시스템즈</td>\n",
       "      <td>도소매,제조,전문과</td>\n",
       "      <td>전기,전자,반도체건</td>\n",
       "      <td>12-29</td>\n",
       "      <td>2019-12-29</td>\n",
       "      <td>2019-12-30</td>\n",
       "      <td>먹는샘물 경기남부총판</td>\n",
       "      <td>생수</td>\n",
       "      <td>17250</td>\n",
       "      <td>1725</td>\n",
       "      <td>복리후생비</td>\n",
       "      <td>20191229410000080006iglu</td>\n",
       "      <td>1.262523e+09</td>\n",
       "      <td>먹는샘물 경기남부총판</td>\n",
       "      <td>서상대</td>\n",
       "      <td>경기 이천시 백사면 이여로 282-14 4번창고(조읍리 608-2)</td>\n",
       "      <td>도소매</td>\n",
       "      <td>생수.음료</td>\n",
       "    </tr>\n",
       "    <tr>\n",
       "      <th>26937</th>\n",
       "      <td>주식회사 씨앤세스시스템즈</td>\n",
       "      <td>도소매,제조,전문과</td>\n",
       "      <td>전기,전자,반도체건</td>\n",
       "      <td>12-30</td>\n",
       "      <td>2019-12-30</td>\n",
       "      <td>2019-12-30</td>\n",
       "      <td>쌍마ENG</td>\n",
       "      <td>이중관제조설비 및 플랜지성형기 1차중도금</td>\n",
       "      <td>30000000</td>\n",
       "      <td>3000000</td>\n",
       "      <td>기계장치</td>\n",
       "      <td>201912301000000093899211</td>\n",
       "      <td>3.011880e+09</td>\n",
       "      <td>쌍마ENG</td>\n",
       "      <td>이구렬</td>\n",
       "      <td>충청북도 청주시 서원구 남이면 남석로 446</td>\n",
       "      <td>제조업</td>\n",
       "      <td>부품제작및가공</td>\n",
       "    </tr>\n",
       "    <tr>\n",
       "      <th>26940</th>\n",
       "      <td>주식회사 씨앤세스시스템즈</td>\n",
       "      <td>도소매,제조,전문과</td>\n",
       "      <td>전기,전자,반도체건</td>\n",
       "      <td>12-31</td>\n",
       "      <td>2020-01-03</td>\n",
       "      <td>2020-01-04</td>\n",
       "      <td>성광금속(주)</td>\n",
       "      <td>구조용 강관(산처리)</td>\n",
       "      <td>890880</td>\n",
       "      <td>89088</td>\n",
       "      <td>상품</td>\n",
       "      <td>201912314100000701848058</td>\n",
       "      <td>1.368125e+09</td>\n",
       "      <td>성광금속(주)</td>\n",
       "      <td>임성순</td>\n",
       "      <td>경기도 김포시 월곶면 애기봉로 517-35</td>\n",
       "      <td>제조 도소매</td>\n",
       "      <td>강관 스텐레스</td>\n",
       "    </tr>\n",
       "  </tbody>\n",
       "</table>\n",
       "<p>25583 rows × 18 columns</p>\n",
       "</div>"
      ],
      "text/plain": [
       "                  상호          업태          종목     일자        발급일자        전송일자  \\\n",
       "0            왓츠 주식회사   서비스/도소매/소   소프트웨어자문개발  01-01  2020-02-10  2020-02-10   \n",
       "1            왓츠 주식회사   서비스/도소매/소   소프트웨어자문개발  01-06  2020-01-28  2020-01-30   \n",
       "2            왓츠 주식회사   서비스/도소매/소   소프트웨어자문개발  01-07  2020-01-07  2020-01-07   \n",
       "3            왓츠 주식회사   서비스/도소매/소   소프트웨어자문개발  01-08  2020-01-28  2020-01-30   \n",
       "4            왓츠 주식회사   서비스/도소매/소   소프트웨어자문개발  01-15  2020-01-15  2020-01-16   \n",
       "...              ...         ...         ...    ...         ...         ...   \n",
       "26934  주식회사 씨앤세스시스템즈  도소매,제조,전문과  전기,전자,반도체건  12-26  2019-12-26  2019-12-26   \n",
       "26935  주식회사 씨앤세스시스템즈  도소매,제조,전문과  전기,전자,반도체건  12-26  2019-12-27  2019-12-28   \n",
       "26936  주식회사 씨앤세스시스템즈  도소매,제조,전문과  전기,전자,반도체건  12-29  2019-12-29  2019-12-30   \n",
       "26937  주식회사 씨앤세스시스템즈  도소매,제조,전문과  전기,전자,반도체건  12-30  2019-12-30  2019-12-30   \n",
       "26940  주식회사 씨앤세스시스템즈  도소매,제조,전문과  전기,전자,반도체건  12-31  2020-01-03  2020-01-04   \n",
       "\n",
       "               거래처                            품명      공급가액       세액   상대계정  \\\n",
       "0        (주)대륜이엔에스                       도시가스 요금     60823     6082  수도광열비   \n",
       "1         주식회사 케이티  기가 인터넷 최대 1G (z!22572238130)     45000     4500    통신비   \n",
       "2             세빛조명                          조명기구     88000     8800   소모품비   \n",
       "3         주식회사 케이티           일반전화 (000204583123)      3800      380    통신비   \n",
       "4        원스토어 주식회사        12월 원스토어㈜ 상품 판매 서비스이용료      1200      120  지급수수료   \n",
       "...            ...                           ...       ...      ...    ...   \n",
       "26934  티와이이앤씨 주식회사                       컨설팅(배기)   3000000   300000  지급수수료   \n",
       "26935     특허법인뉴코리아        특허등록비용(10-2019-105231)   1500000   150000  지급수수료   \n",
       "26936  먹는샘물 경기남부총판                            생수     17250     1725  복리후생비   \n",
       "26937        쌍마ENG        이중관제조설비 및 플랜지성형기 1차중도금  30000000  3000000   기계장치   \n",
       "26940      성광금속(주)                   구조용 강관(산처리)    890880    89088     상품   \n",
       "\n",
       "                           승인번호            ID     Nametext SpecifiedPerson  \\\n",
       "0      2020010150000034f4zyptsp  2.178116e+09    (주)대륜이엔에스             전동수   \n",
       "1      2020010650000002j8538464  1.028143e+09     주식회사 케이티             황창규   \n",
       "2      202001071000000014438566  6.042450e+09         세빛조명             정연순   \n",
       "3      2020010850000002a1250084  1.028143e+09     주식회사 케이티             황창규   \n",
       "4      202001154100017730001230  8.568600e+09    원스토어 주식회사             이재환   \n",
       "...                         ...           ...          ...             ...   \n",
       "26934  201912261000000091862024  8.758601e+09  티와이이앤씨 주식회사             탁영용   \n",
       "26935  2019122641000115a144fs2x  4.228601e+09     특허법인뉴코리아             조인제   \n",
       "26936  20191229410000080006iglu  1.262523e+09  먹는샘물 경기남부총판             서상대   \n",
       "26937  201912301000000093899211  3.011880e+09        쌍마ENG             이구렬   \n",
       "26940  201912314100000701848058  1.368125e+09      성광금속(주)             임성순   \n",
       "\n",
       "                                 LineOneText    TypeCode ClassificationCode  \n",
       "0                     서울시 노원구 덕릉로70길 20(상계동)       제조도소매         도시가스제조및공급업  \n",
       "1                         경기도 성남시 분당구 불정로 90    통신업 부동산업       전신전화 부가통신 임대  \n",
       "2              서울특별시 강북구 인수봉로77길 29  1층(수유동)    도매 및 소매업               조명기구  \n",
       "3                         경기도 성남시 분당구 불정로 90    통신업 부동산업       전신전화 부가통신 임대  \n",
       "4             경기도 성남시 분당구 판교역로 146번길 20(백현동)         서비스               부가통신  \n",
       "...                                      ...         ...                ...  \n",
       "26934      경기도 수원시 권선구 오목천로152번길 16  4층(고색동)  도매 및 상품중개업              기타중개업  \n",
       "26935           서울시 강남구 논현로87길 15-6  7층(역삼동)         서비스               변리사외  \n",
       "26936  경기 이천시 백사면 이여로 282-14 4번창고(조읍리 608-2)         도소매              생수.음료  \n",
       "26937               충청북도 청주시 서원구 남이면 남석로 446         제조업            부품제작및가공  \n",
       "26940                경기도 김포시 월곶면 애기봉로 517-35      제조 도소매            강관 스텐레스  \n",
       "\n",
       "[25583 rows x 18 columns]"
      ]
     },
     "execution_count": 438,
     "metadata": {},
     "output_type": "execute_result"
    }
   ],
   "source": [
    "new_df2"
   ]
  },
  {
   "cell_type": "code",
   "execution_count": 45,
   "id": "134242af",
   "metadata": {},
   "outputs": [],
   "source": [
    "new_df4.to_csv(\"./0530합본.csv\", index=False, encoding='utf-8-sig')"
   ]
  },
  {
   "cell_type": "markdown",
   "id": "e4d9a071",
   "metadata": {},
   "source": [
    "### "
   ]
  }
 ],
 "metadata": {
  "kernelspec": {
   "display_name": "Python 3 (ipykernel)",
   "language": "python",
   "name": "python3"
  },
  "language_info": {
   "codemirror_mode": {
    "name": "ipython",
    "version": 3
   },
   "file_extension": ".py",
   "mimetype": "text/x-python",
   "name": "python",
   "nbconvert_exporter": "python",
   "pygments_lexer": "ipython3",
   "version": "3.7.15"
  }
 },
 "nbformat": 4,
 "nbformat_minor": 5
}
