{
 "cells": [
  {
   "cell_type": "code",
   "execution_count": 1,
   "id": "4541f8ce",
   "metadata": {},
   "outputs": [],
   "source": [
    "import pandas as pd"
   ]
  },
  {
   "cell_type": "code",
   "execution_count": 2,
   "id": "7f2adcd5",
   "metadata": {},
   "outputs": [],
   "source": [
    "df = pd.read_csv('./0530합본.csv')"
   ]
  },
  {
   "cell_type": "code",
   "execution_count": 3,
   "id": "0e111c0c",
   "metadata": {},
   "outputs": [],
   "source": [
    "#df1 = df[['종목', 'ClassificationCode', '품명', '상대계정']]\n",
    "# '품명' null인 것들 \" \"으로 대체\n",
    "df.loc[df[df['품명'].isnull()].index, '품명'] = \" \""
   ]
  },
  {
   "cell_type": "code",
   "execution_count": 4,
   "id": "472dffba",
   "metadata": {},
   "outputs": [
    {
     "data": {
      "text/plain": [
       "79"
      ]
     },
     "execution_count": 4,
     "metadata": {},
     "output_type": "execute_result"
    }
   ],
   "source": [
    "len(df['상대계정'].unique())"
   ]
  },
  {
   "cell_type": "code",
   "execution_count": 5,
   "id": "227b3e05",
   "metadata": {},
   "outputs": [
    {
     "data": {
      "text/html": [
       "<div>\n",
       "<style scoped>\n",
       "    .dataframe tbody tr th:only-of-type {\n",
       "        vertical-align: middle;\n",
       "    }\n",
       "\n",
       "    .dataframe tbody tr th {\n",
       "        vertical-align: top;\n",
       "    }\n",
       "\n",
       "    .dataframe thead th {\n",
       "        text-align: right;\n",
       "    }\n",
       "</style>\n",
       "<table border=\"1\" class=\"dataframe\">\n",
       "  <thead>\n",
       "    <tr style=\"text-align: right;\">\n",
       "      <th></th>\n",
       "      <th>상호</th>\n",
       "      <th>업태</th>\n",
       "      <th>종목</th>\n",
       "      <th>일자</th>\n",
       "      <th>발급일자</th>\n",
       "      <th>전송일자</th>\n",
       "      <th>거래처</th>\n",
       "      <th>품명</th>\n",
       "      <th>공급가액</th>\n",
       "      <th>세액</th>\n",
       "      <th>...</th>\n",
       "      <th>SpecifiedPerson_invoicer</th>\n",
       "      <th>LineOneText_invoicer</th>\n",
       "      <th>TypeCode_invoicer</th>\n",
       "      <th>ClassificationCode_invoicer</th>\n",
       "      <th>ID_invoicee</th>\n",
       "      <th>Nametext_invoicee</th>\n",
       "      <th>SpecifiedPerson_invoicee</th>\n",
       "      <th>LineOneText_invoicee</th>\n",
       "      <th>TypeCode_invoicee</th>\n",
       "      <th>ClassificationCode_invoicee</th>\n",
       "    </tr>\n",
       "  </thead>\n",
       "  <tbody>\n",
       "    <tr>\n",
       "      <th>0</th>\n",
       "      <td>왓츠 주식회사</td>\n",
       "      <td>서비스/도소매/소</td>\n",
       "      <td>소프트웨어자문개발</td>\n",
       "      <td>01-01</td>\n",
       "      <td>2020-02-10</td>\n",
       "      <td>2020-02-10</td>\n",
       "      <td>(주)대륜이엔에스</td>\n",
       "      <td>도시가스 요금</td>\n",
       "      <td>60823</td>\n",
       "      <td>6082</td>\n",
       "      <td>...</td>\n",
       "      <td>전동수</td>\n",
       "      <td>서울시 노원구 덕릉로70길 20(상계동)</td>\n",
       "      <td>제조도소매</td>\n",
       "      <td>도시가스제조및공급업</td>\n",
       "      <td>2068689422</td>\n",
       "      <td>왓츠 주식회사</td>\n",
       "      <td>양동우</td>\n",
       "      <td>서울특별시 도봉구 마들로16길 20  204호(창동)</td>\n",
       "      <td>서비스</td>\n",
       "      <td>소프트웨어자문개발공급업</td>\n",
       "    </tr>\n",
       "    <tr>\n",
       "      <th>1</th>\n",
       "      <td>왓츠 주식회사</td>\n",
       "      <td>서비스/도소매/소</td>\n",
       "      <td>소프트웨어자문개발</td>\n",
       "      <td>01-06</td>\n",
       "      <td>2020-01-28</td>\n",
       "      <td>2020-01-30</td>\n",
       "      <td>주식회사 케이티</td>\n",
       "      <td>기가 인터넷 최대 1G (z!22572238130)</td>\n",
       "      <td>45000</td>\n",
       "      <td>4500</td>\n",
       "      <td>...</td>\n",
       "      <td>구현모</td>\n",
       "      <td>경기도 성남시 분당구 불정로 90</td>\n",
       "      <td>통신업 부동산업</td>\n",
       "      <td>전신전화 부가통신 임대</td>\n",
       "      <td>2068689422</td>\n",
       "      <td>왓츠 주식회사</td>\n",
       "      <td>양동우</td>\n",
       "      <td>서울특별시 도봉구 마들로16길 20  204호(창동)</td>\n",
       "      <td>서비스</td>\n",
       "      <td>소프트웨어자문개발공급업</td>\n",
       "    </tr>\n",
       "    <tr>\n",
       "      <th>2</th>\n",
       "      <td>왓츠 주식회사</td>\n",
       "      <td>서비스/도소매/소</td>\n",
       "      <td>소프트웨어자문개발</td>\n",
       "      <td>01-07</td>\n",
       "      <td>2020-01-07</td>\n",
       "      <td>2020-01-07</td>\n",
       "      <td>세빛조명</td>\n",
       "      <td>조명기구</td>\n",
       "      <td>88000</td>\n",
       "      <td>8800</td>\n",
       "      <td>...</td>\n",
       "      <td>정연순</td>\n",
       "      <td>서울특별시 강북구 인수봉로77길 29  1층(수유동)</td>\n",
       "      <td>도매 및 소매업</td>\n",
       "      <td>조명기구</td>\n",
       "      <td>2068689422</td>\n",
       "      <td>왓츠 주식회사</td>\n",
       "      <td>양동우</td>\n",
       "      <td>서울특별시 도봉구 마들로16길 20  204호(창동)</td>\n",
       "      <td>서비스</td>\n",
       "      <td>소프트웨어자문개발공급업</td>\n",
       "    </tr>\n",
       "    <tr>\n",
       "      <th>3</th>\n",
       "      <td>왓츠 주식회사</td>\n",
       "      <td>서비스/도소매/소</td>\n",
       "      <td>소프트웨어자문개발</td>\n",
       "      <td>01-08</td>\n",
       "      <td>2020-01-28</td>\n",
       "      <td>2020-01-30</td>\n",
       "      <td>주식회사 케이티</td>\n",
       "      <td>일반전화 (000204583123)</td>\n",
       "      <td>3800</td>\n",
       "      <td>380</td>\n",
       "      <td>...</td>\n",
       "      <td>구현모</td>\n",
       "      <td>경기도 성남시 분당구 불정로 90</td>\n",
       "      <td>통신업 부동산업</td>\n",
       "      <td>전신전화 부가통신 임대</td>\n",
       "      <td>2068689422</td>\n",
       "      <td>왓츠 주식회사</td>\n",
       "      <td>양동우</td>\n",
       "      <td>서울특별시 도봉구 마들로16길 20  204호(창동)</td>\n",
       "      <td>서비스</td>\n",
       "      <td>소프트웨어자문개발공급업</td>\n",
       "    </tr>\n",
       "    <tr>\n",
       "      <th>4</th>\n",
       "      <td>왓츠 주식회사</td>\n",
       "      <td>서비스/도소매/소</td>\n",
       "      <td>소프트웨어자문개발</td>\n",
       "      <td>01-15</td>\n",
       "      <td>2020-01-15</td>\n",
       "      <td>2020-01-16</td>\n",
       "      <td>원스토어 주식회사</td>\n",
       "      <td>12월 원스토어㈜ 상품 판매 서비스이용료</td>\n",
       "      <td>1200</td>\n",
       "      <td>120</td>\n",
       "      <td>...</td>\n",
       "      <td>이재환</td>\n",
       "      <td>경기도 성남시 분당구 판교역로 188(삼평동)</td>\n",
       "      <td>서비스</td>\n",
       "      <td>부가통신</td>\n",
       "      <td>2068689422</td>\n",
       "      <td>왓츠 주식회사</td>\n",
       "      <td>양동우</td>\n",
       "      <td>서울특별시 도봉구 마들로16길 20  204호(창동)</td>\n",
       "      <td>서비스</td>\n",
       "      <td>소프트웨어자문개발공급업</td>\n",
       "    </tr>\n",
       "    <tr>\n",
       "      <th>...</th>\n",
       "      <td>...</td>\n",
       "      <td>...</td>\n",
       "      <td>...</td>\n",
       "      <td>...</td>\n",
       "      <td>...</td>\n",
       "      <td>...</td>\n",
       "      <td>...</td>\n",
       "      <td>...</td>\n",
       "      <td>...</td>\n",
       "      <td>...</td>\n",
       "      <td>...</td>\n",
       "      <td>...</td>\n",
       "      <td>...</td>\n",
       "      <td>...</td>\n",
       "      <td>...</td>\n",
       "      <td>...</td>\n",
       "      <td>...</td>\n",
       "      <td>...</td>\n",
       "      <td>...</td>\n",
       "      <td>...</td>\n",
       "      <td>...</td>\n",
       "    </tr>\n",
       "    <tr>\n",
       "      <th>23776</th>\n",
       "      <td>주식회사 씨앤세스시스템즈</td>\n",
       "      <td>도소매,제조,전문과</td>\n",
       "      <td>전기,전자,반도체건</td>\n",
       "      <td>12-26</td>\n",
       "      <td>2019-12-26</td>\n",
       "      <td>2019-12-26</td>\n",
       "      <td>티와이이앤씨 주식회사</td>\n",
       "      <td>컨설팅(배기)</td>\n",
       "      <td>3000000</td>\n",
       "      <td>300000</td>\n",
       "      <td>...</td>\n",
       "      <td>탁영용</td>\n",
       "      <td>경기도 수원시 권선구 오목천로152번길 16  4층(고색동)</td>\n",
       "      <td>도매 및 상품중개업</td>\n",
       "      <td>기타중개업</td>\n",
       "      <td>0</td>\n",
       "      <td>주식회사 씨앤세스시스템즈</td>\n",
       "      <td></td>\n",
       "      <td></td>\n",
       "      <td>도소매,제조,전문과</td>\n",
       "      <td>전기,전자,반도체건</td>\n",
       "    </tr>\n",
       "    <tr>\n",
       "      <th>23777</th>\n",
       "      <td>주식회사 씨앤세스시스템즈</td>\n",
       "      <td>도소매,제조,전문과</td>\n",
       "      <td>전기,전자,반도체건</td>\n",
       "      <td>12-26</td>\n",
       "      <td>2019-12-27</td>\n",
       "      <td>2019-12-28</td>\n",
       "      <td>특허법인뉴코리아</td>\n",
       "      <td>특허등록비용(10-2019-105231)</td>\n",
       "      <td>1500000</td>\n",
       "      <td>150000</td>\n",
       "      <td>...</td>\n",
       "      <td>조인제</td>\n",
       "      <td>서울시 강남구 논현로87길 15-6  7층(역삼동)</td>\n",
       "      <td>서비스</td>\n",
       "      <td>변리사외</td>\n",
       "      <td>0</td>\n",
       "      <td>주식회사 씨앤세스시스템즈</td>\n",
       "      <td></td>\n",
       "      <td></td>\n",
       "      <td>도소매,제조,전문과</td>\n",
       "      <td>전기,전자,반도체건</td>\n",
       "    </tr>\n",
       "    <tr>\n",
       "      <th>23778</th>\n",
       "      <td>주식회사 씨앤세스시스템즈</td>\n",
       "      <td>도소매,제조,전문과</td>\n",
       "      <td>전기,전자,반도체건</td>\n",
       "      <td>12-29</td>\n",
       "      <td>2019-12-29</td>\n",
       "      <td>2019-12-30</td>\n",
       "      <td>먹는샘물 경기남부총판</td>\n",
       "      <td>생수</td>\n",
       "      <td>17250</td>\n",
       "      <td>1725</td>\n",
       "      <td>...</td>\n",
       "      <td>서상대</td>\n",
       "      <td>경기 이천시 백사면 이여로 282-14 4번창고(조읍리 608-2)</td>\n",
       "      <td>도소매</td>\n",
       "      <td>생수.음료</td>\n",
       "      <td>0</td>\n",
       "      <td>주식회사 씨앤세스시스템즈</td>\n",
       "      <td></td>\n",
       "      <td></td>\n",
       "      <td>도소매,제조,전문과</td>\n",
       "      <td>전기,전자,반도체건</td>\n",
       "    </tr>\n",
       "    <tr>\n",
       "      <th>23779</th>\n",
       "      <td>주식회사 씨앤세스시스템즈</td>\n",
       "      <td>도소매,제조,전문과</td>\n",
       "      <td>전기,전자,반도체건</td>\n",
       "      <td>12-30</td>\n",
       "      <td>2019-12-30</td>\n",
       "      <td>2019-12-30</td>\n",
       "      <td>쌍마ENG</td>\n",
       "      <td>이중관제조설비 및 플랜지성형기 1차중도금</td>\n",
       "      <td>30000000</td>\n",
       "      <td>3000000</td>\n",
       "      <td>...</td>\n",
       "      <td>이구렬</td>\n",
       "      <td>충청북도 청주시 서원구 남이면 남석로 446</td>\n",
       "      <td>제조업</td>\n",
       "      <td>부품제작및가공</td>\n",
       "      <td>0</td>\n",
       "      <td>주식회사 씨앤세스시스템즈</td>\n",
       "      <td></td>\n",
       "      <td></td>\n",
       "      <td>도소매,제조,전문과</td>\n",
       "      <td>전기,전자,반도체건</td>\n",
       "    </tr>\n",
       "    <tr>\n",
       "      <th>23780</th>\n",
       "      <td>주식회사 씨앤세스시스템즈</td>\n",
       "      <td>도소매,제조,전문과</td>\n",
       "      <td>전기,전자,반도체건</td>\n",
       "      <td>12-31</td>\n",
       "      <td>2020-01-03</td>\n",
       "      <td>2020-01-04</td>\n",
       "      <td>성광금속(주)</td>\n",
       "      <td>구조용 강관(산처리)</td>\n",
       "      <td>890880</td>\n",
       "      <td>89088</td>\n",
       "      <td>...</td>\n",
       "      <td>임성순</td>\n",
       "      <td>경기도 김포시 월곶면 애기봉로 517-35</td>\n",
       "      <td>제조 도소매</td>\n",
       "      <td>강관 스텐레스</td>\n",
       "      <td>0</td>\n",
       "      <td>주식회사 씨앤세스시스템즈</td>\n",
       "      <td></td>\n",
       "      <td></td>\n",
       "      <td>도소매,제조,전문과</td>\n",
       "      <td>전기,전자,반도체건</td>\n",
       "    </tr>\n",
       "  </tbody>\n",
       "</table>\n",
       "<p>23781 rows × 24 columns</p>\n",
       "</div>"
      ],
      "text/plain": [
       "                  상호          업태          종목     일자        발급일자        전송일자  \\\n",
       "0            왓츠 주식회사   서비스/도소매/소   소프트웨어자문개발  01-01  2020-02-10  2020-02-10   \n",
       "1            왓츠 주식회사   서비스/도소매/소   소프트웨어자문개발  01-06  2020-01-28  2020-01-30   \n",
       "2            왓츠 주식회사   서비스/도소매/소   소프트웨어자문개발  01-07  2020-01-07  2020-01-07   \n",
       "3            왓츠 주식회사   서비스/도소매/소   소프트웨어자문개발  01-08  2020-01-28  2020-01-30   \n",
       "4            왓츠 주식회사   서비스/도소매/소   소프트웨어자문개발  01-15  2020-01-15  2020-01-16   \n",
       "...              ...         ...         ...    ...         ...         ...   \n",
       "23776  주식회사 씨앤세스시스템즈  도소매,제조,전문과  전기,전자,반도체건  12-26  2019-12-26  2019-12-26   \n",
       "23777  주식회사 씨앤세스시스템즈  도소매,제조,전문과  전기,전자,반도체건  12-26  2019-12-27  2019-12-28   \n",
       "23778  주식회사 씨앤세스시스템즈  도소매,제조,전문과  전기,전자,반도체건  12-29  2019-12-29  2019-12-30   \n",
       "23779  주식회사 씨앤세스시스템즈  도소매,제조,전문과  전기,전자,반도체건  12-30  2019-12-30  2019-12-30   \n",
       "23780  주식회사 씨앤세스시스템즈  도소매,제조,전문과  전기,전자,반도체건  12-31  2020-01-03  2020-01-04   \n",
       "\n",
       "               거래처                            품명      공급가액       세액  ...  \\\n",
       "0        (주)대륜이엔에스                       도시가스 요금     60823     6082  ...   \n",
       "1         주식회사 케이티  기가 인터넷 최대 1G (z!22572238130)     45000     4500  ...   \n",
       "2             세빛조명                          조명기구     88000     8800  ...   \n",
       "3         주식회사 케이티           일반전화 (000204583123)      3800      380  ...   \n",
       "4        원스토어 주식회사        12월 원스토어㈜ 상품 판매 서비스이용료      1200      120  ...   \n",
       "...            ...                           ...       ...      ...  ...   \n",
       "23776  티와이이앤씨 주식회사                       컨설팅(배기)   3000000   300000  ...   \n",
       "23777     특허법인뉴코리아        특허등록비용(10-2019-105231)   1500000   150000  ...   \n",
       "23778  먹는샘물 경기남부총판                            생수     17250     1725  ...   \n",
       "23779        쌍마ENG        이중관제조설비 및 플랜지성형기 1차중도금  30000000  3000000  ...   \n",
       "23780      성광금속(주)                   구조용 강관(산처리)    890880    89088  ...   \n",
       "\n",
       "      SpecifiedPerson_invoicer                   LineOneText_invoicer  \\\n",
       "0                          전동수                 서울시 노원구 덕릉로70길 20(상계동)   \n",
       "1                          구현모                     경기도 성남시 분당구 불정로 90   \n",
       "2                          정연순          서울특별시 강북구 인수봉로77길 29  1층(수유동)   \n",
       "3                          구현모                     경기도 성남시 분당구 불정로 90   \n",
       "4                          이재환              경기도 성남시 분당구 판교역로 188(삼평동)   \n",
       "...                        ...                                    ...   \n",
       "23776                      탁영용      경기도 수원시 권선구 오목천로152번길 16  4층(고색동)   \n",
       "23777                      조인제           서울시 강남구 논현로87길 15-6  7층(역삼동)   \n",
       "23778                      서상대  경기 이천시 백사면 이여로 282-14 4번창고(조읍리 608-2)   \n",
       "23779                      이구렬               충청북도 청주시 서원구 남이면 남석로 446   \n",
       "23780                      임성순                경기도 김포시 월곶면 애기봉로 517-35   \n",
       "\n",
       "       TypeCode_invoicer ClassificationCode_invoicer ID_invoicee  \\\n",
       "0                  제조도소매                  도시가스제조및공급업  2068689422   \n",
       "1               통신업 부동산업                전신전화 부가통신 임대  2068689422   \n",
       "2               도매 및 소매업                        조명기구  2068689422   \n",
       "3               통신업 부동산업                전신전화 부가통신 임대  2068689422   \n",
       "4                    서비스                        부가통신  2068689422   \n",
       "...                  ...                         ...         ...   \n",
       "23776         도매 및 상품중개업                       기타중개업           0   \n",
       "23777                서비스                        변리사외           0   \n",
       "23778                도소매                       생수.음료           0   \n",
       "23779                제조업                     부품제작및가공           0   \n",
       "23780             제조 도소매                     강관 스텐레스           0   \n",
       "\n",
       "      Nametext_invoicee SpecifiedPerson_invoicee  \\\n",
       "0               왓츠 주식회사                      양동우   \n",
       "1               왓츠 주식회사                      양동우   \n",
       "2               왓츠 주식회사                      양동우   \n",
       "3               왓츠 주식회사                      양동우   \n",
       "4               왓츠 주식회사                      양동우   \n",
       "...                 ...                      ...   \n",
       "23776     주식회사 씨앤세스시스템즈                            \n",
       "23777     주식회사 씨앤세스시스템즈                            \n",
       "23778     주식회사 씨앤세스시스템즈                            \n",
       "23779     주식회사 씨앤세스시스템즈                            \n",
       "23780     주식회사 씨앤세스시스템즈                            \n",
       "\n",
       "                LineOneText_invoicee  TypeCode_invoicee  \\\n",
       "0      서울특별시 도봉구 마들로16길 20  204호(창동)                서비스   \n",
       "1      서울특별시 도봉구 마들로16길 20  204호(창동)                서비스   \n",
       "2      서울특별시 도봉구 마들로16길 20  204호(창동)                서비스   \n",
       "3      서울특별시 도봉구 마들로16길 20  204호(창동)                서비스   \n",
       "4      서울특별시 도봉구 마들로16길 20  204호(창동)                서비스   \n",
       "...                              ...                ...   \n",
       "23776                                        도소매,제조,전문과   \n",
       "23777                                        도소매,제조,전문과   \n",
       "23778                                        도소매,제조,전문과   \n",
       "23779                                        도소매,제조,전문과   \n",
       "23780                                        도소매,제조,전문과   \n",
       "\n",
       "      ClassificationCode_invoicee  \n",
       "0                    소프트웨어자문개발공급업  \n",
       "1                    소프트웨어자문개발공급업  \n",
       "2                    소프트웨어자문개발공급업  \n",
       "3                    소프트웨어자문개발공급업  \n",
       "4                    소프트웨어자문개발공급업  \n",
       "...                           ...  \n",
       "23776                  전기,전자,반도체건  \n",
       "23777                  전기,전자,반도체건  \n",
       "23778                  전기,전자,반도체건  \n",
       "23779                  전기,전자,반도체건  \n",
       "23780                  전기,전자,반도체건  \n",
       "\n",
       "[23781 rows x 24 columns]"
      ]
     },
     "execution_count": 5,
     "metadata": {},
     "output_type": "execute_result"
    }
   ],
   "source": [
    "df"
   ]
  },
  {
   "cell_type": "code",
   "execution_count": 6,
   "id": "f7bce63a",
   "metadata": {
    "scrolled": true
   },
   "outputs": [
    {
     "data": {
      "text/plain": [
       "상호                                                   왓츠 주식회사\n",
       "업태                                                 서비스/도소매/소\n",
       "종목                                                 소프트웨어자문개발\n",
       "일자                                                     01-01\n",
       "발급일자                                              2020-02-10\n",
       "전송일자                                              2020-02-10\n",
       "거래처                                                (주)대륜이엔에스\n",
       "품명                                                   도시가스 요금\n",
       "공급가액                                                   60823\n",
       "세액                                                      6082\n",
       "상대계정                                                   수도광열비\n",
       "승인번호                                2020010150000034f4zyptsp\n",
       "ID_invoicer                                     2178116055.0\n",
       "Nametext_invoicer                                  (주)대륜이엔에스\n",
       "SpecifiedPerson_invoicer                                 전동수\n",
       "LineOneText_invoicer                  서울시 노원구 덕릉로70길 20(상계동)\n",
       "TypeCode_invoicer                                      제조도소매\n",
       "ClassificationCode_invoicer                       도시가스제조및공급업\n",
       "ID_invoicee                                       2068689422\n",
       "Nametext_invoicee                                    왓츠 주식회사\n",
       "SpecifiedPerson_invoicee                                 양동우\n",
       "LineOneText_invoicee           서울특별시 도봉구 마들로16길 20  204호(창동)\n",
       "TypeCode_invoicee                                        서비스\n",
       "ClassificationCode_invoicee                     소프트웨어자문개발공급업\n",
       "Name: 0, dtype: object"
      ]
     },
     "execution_count": 6,
     "metadata": {},
     "output_type": "execute_result"
    }
   ],
   "source": [
    "df.iloc[0]"
   ]
  },
  {
   "cell_type": "code",
   "execution_count": 7,
   "id": "fd9d6d71",
   "metadata": {
    "scrolled": true
   },
   "outputs": [
    {
     "data": {
      "text/plain": [
       "상호                                                                주식회사 파이브웍스\n",
       "업태                                                                     정보통신업\n",
       "종목                                                            소프트웨어 개발 및 공급업\n",
       "일자                                                                     09-02\n",
       "발급일자                                                              2019-09-04\n",
       "전송일자                                                              2019-09-05\n",
       "거래처                                                               법무법인(유한) 민\n",
       "품명                                                                      법인등기\n",
       "공급가액                                                                  300000\n",
       "세액                                                                     30000\n",
       "상대계정                                                                   지급수수료\n",
       "승인번호                                                201909024100009672722610\n",
       "ID_invoicer                                                     2208780647.0\n",
       "Nametext_invoicer                                                 법무법인(유한) 민\n",
       "SpecifiedPerson_invoicer                                         김경선 우덕성 고태관\n",
       "LineOneText_invoicer                  서울특별시 강남구 테헤란로 126 6 11 12층 법무법인(유한) 민\n",
       "TypeCode_invoicer                                                        서비스\n",
       "ClassificationCode_invoicer                                            법무서비스\n",
       "ID_invoicee                                                       2618801451\n",
       "Nametext_invoicee                                                 주식회사 파이브웍스\n",
       "SpecifiedPerson_invoicee                                                 김성태\n",
       "LineOneText_invoicee           서울특별시 강서구 마곡중앙로 76  413 414호(마곡동  힐스테이트에코마곡역)\n",
       "TypeCode_invoicee                                                      정보통신업\n",
       "ClassificationCode_invoicee                                   소프트웨어 개발 및 공급업\n",
       "Name: 9288, dtype: object"
      ]
     },
     "execution_count": 7,
     "metadata": {},
     "output_type": "execute_result"
    }
   ],
   "source": [
    "df[df['상호'].str.contains(\"파이브웍스\")].iloc[1]"
   ]
  },
  {
   "cell_type": "markdown",
   "id": "0021da45",
   "metadata": {},
   "source": [
    "### 새로운 column 생성"
   ]
  },
  {
   "cell_type": "code",
   "execution_count": 8,
   "id": "f023d55a",
   "metadata": {},
   "outputs": [],
   "source": [
    "df['new'] = df['ClassificationCode_invoicee'] + \"_\" + df['ClassificationCode_invoicer'] + \"_\" + df['품명'] "
   ]
  },
  {
   "cell_type": "code",
   "execution_count": 9,
   "id": "a542b18c",
   "metadata": {},
   "outputs": [
    {
     "name": "stderr",
     "output_type": "stream",
     "text": [
      "/home/r320/anaconda3/envs/nlp/lib/python3.7/site-packages/ipykernel_launcher.py:1: FutureWarning: The default value of regex will change from True to False in a future version.\n",
      "  \"\"\"Entry point for launching an IPython kernel.\n"
     ]
    }
   ],
   "source": [
    "df['상대계정'] = df['상대계정'].str.replace('\\(판\\)', '')"
   ]
  },
  {
   "cell_type": "code",
   "execution_count": 10,
   "id": "bc9f7cb4",
   "metadata": {},
   "outputs": [],
   "source": [
    "# 상대계정 : 미추천, 확인, 회사설정계정과목 없앰\n",
    "df.drop(df[df['상대계정']=='미추천'].index, axis=0, inplace=True)\n",
    "df.drop(df[df['상대계정']=='확인'].index, axis=0, inplace=True)\n",
    "df.drop(df[df['상대계정']=='회사설정계정과목'].index, axis=0, inplace=True)\n",
    "# 원재료(도급) 인 부분을 '원재료'로 바꿈\n",
    "df.loc[df[df['상대계정']=='원재료(도급)'].index, '상대계정'] = '원재료'"
   ]
  },
  {
   "cell_type": "code",
   "execution_count": 11,
   "id": "c3e582ca",
   "metadata": {},
   "outputs": [],
   "source": [
    "for idx in df['상대계정'].value_counts()[df['상대계정'].value_counts()<=10].index:\n",
    "    df.drop(df[df['상대계정']==idx].index, axis=0, inplace=True)"
   ]
  },
  {
   "cell_type": "code",
   "execution_count": 12,
   "id": "5903d709",
   "metadata": {},
   "outputs": [
    {
     "data": {
      "text/plain": [
       "23519"
      ]
     },
     "execution_count": 12,
     "metadata": {},
     "output_type": "execute_result"
    }
   ],
   "source": [
    "len(df)"
   ]
  },
  {
   "cell_type": "code",
   "execution_count": 13,
   "id": "d5c610b4",
   "metadata": {},
   "outputs": [],
   "source": [
    "num_account = {}\n",
    "num_account_inverse = {}\n",
    "for i, class_ in enumerate(df['상대계정'].unique()):\n",
    "    num_account[i] = class_\n",
    "    num_account_inverse[class_] = i"
   ]
  },
  {
   "cell_type": "code",
   "execution_count": 14,
   "id": "c1e6eb18",
   "metadata": {},
   "outputs": [],
   "source": [
    "df['상대계정_new'] = df['상대계정'].apply(lambda x : num_account_inverse[x])"
   ]
  },
  {
   "cell_type": "markdown",
   "id": "c34ab914",
   "metadata": {},
   "source": [
    "### 상대계정 class 번호화"
   ]
  },
  {
   "cell_type": "code",
   "execution_count": 15,
   "id": "8a20e53e",
   "metadata": {
    "scrolled": true
   },
   "outputs": [
    {
     "data": {
      "text/plain": [
       "{0: '수도광열비',\n",
       " 1: '통신비',\n",
       " 2: '소모품비',\n",
       " 3: '지급수수료',\n",
       " 4: '원재료',\n",
       " 5: '경상연구개발비',\n",
       " 6: '광고선전비',\n",
       " 7: '건물관리비',\n",
       " 8: '지급임차료',\n",
       " 9: '복리후생비',\n",
       " 10: '운반비',\n",
       " 11: '도서인쇄비',\n",
       " 12: '수선비',\n",
       " 13: '외주가공비',\n",
       " 14: '기계장치',\n",
       " 15: '비품',\n",
       " 16: '차량운반구',\n",
       " 17: '외주비',\n",
       " 18: '상품',\n",
       " 19: '전력비',\n",
       " 20: '차량리스료',\n",
       " 21: '선급금',\n",
       " 22: '장비사용료',\n",
       " 23: '선급비용',\n",
       " 24: '차량유지비',\n",
       " 25: '외주공사비',\n",
       " 26: '교육훈련비',\n",
       " 27: '포장비',\n",
       " 28: '부가세대급금',\n",
       " 29: '외주용역비',\n",
       " 30: '사무용품비',\n",
       " 31: '음식재료비',\n",
       " 32: '부재료',\n",
       " 33: '미착품',\n",
       " 34: '수출제비용',\n",
       " 35: '리스료',\n",
       " 36: '수수료비용',\n",
       " 37: '가스수도료',\n",
       " 38: '렌트비',\n",
       " 39: '의약품',\n",
       " 40: '의료용소모품',\n",
       " 41: '의료용재료비',\n",
       " 42: '음식재료',\n",
       " 43: '판매촉진비'}"
      ]
     },
     "execution_count": 15,
     "metadata": {},
     "output_type": "execute_result"
    }
   ],
   "source": [
    "num_account"
   ]
  },
  {
   "cell_type": "code",
   "execution_count": 16,
   "id": "9c3affbf",
   "metadata": {
    "scrolled": true
   },
   "outputs": [
    {
     "name": "stdout",
     "output_type": "stream",
     "text": [
      "[ 0  1  2  3  4  5  6  7  8  9 10 11 12 13 14 15 16 17 18 19 20 21 22 23\n",
      " 24 25 26 27 28 29 30 31 32 33 34 35 36 37 38 39 40 41 42 43]\n"
     ]
    }
   ],
   "source": [
    "print(df['상대계정_new'].unique()) # 43개의 상대계정 class"
   ]
  },
  {
   "cell_type": "code",
   "execution_count": 17,
   "id": "3c8e4d7c",
   "metadata": {},
   "outputs": [
    {
     "name": "stdout",
     "output_type": "stream",
     "text": [
      "44\n"
     ]
    }
   ],
   "source": [
    "eng_account = ['Water utility expenses', 'Communication expenses', 'Consumables expenses', 'Commission', 'Raw materials', \n",
    "              'Ordinary R&D expense', 'Advertisement expenses', 'Building maintaenance charge', 'Paid rent', 'Employee benefits', \n",
    "              'Transport fee', 'Book printing expenses', 'Repairs and maintenance', 'Processing costs paid to subcontractor', 'Machinery', \n",
    "              'Office equipment', 'Vehicles', 'Outsourcing cost', 'Prize', 'Electric power charge', 'Car lease payment', \n",
    "              'Advance payment', 'Equipment fee', 'Advance cost', 'Vehicle maintenance', 'Outsourcing construction cost', \n",
    "              'Education and training expenses', 'Packing charge', 'VAT refundable', 'Outsourcing service fee', 'Office supplies', \n",
    "              'Food cost', 'Subsidiary materials', 'Goods to arrive', 'Export charges', 'Lease payment', 'Commission fee',\n",
    "              'Gas&water utility expenses', 'Rent', 'Medicine', 'Medical consumables', 'Medical material cost', 'Food ingredients', \n",
    "              'Sales promotion costs']\n",
    "print(len(eng_account))"
   ]
  },
  {
   "cell_type": "code",
   "execution_count": 18,
   "id": "4c56b10e",
   "metadata": {},
   "outputs": [],
   "source": [
    "x = list(df['상대계정_new'].unique())\n",
    "val = df['상대계정_new'].value_counts()\n",
    "y = []\n",
    "for idx in x:\n",
    "    y.append(val[idx])"
   ]
  },
  {
   "cell_type": "markdown",
   "id": "f0b8f2e7",
   "metadata": {},
   "source": [
    "1. 10개 미만에 대한 선이 필요할 것으로 보임\n",
    "\n",
    "2. X 와 Y 축을 변경, X와 Y 축에 대한 명칭을 영어로 -> plt.barh(계정과목, 개수) 사용\n",
    "\n",
    "3. 1000개 까지만 X 축 (counts) 으로 보여주고, 1000을 넘는 그래프는 숫자로 표기"
   ]
  },
  {
   "cell_type": "code",
   "execution_count": 19,
   "id": "0c964288",
   "metadata": {},
   "outputs": [],
   "source": [
    "final_y = []\n",
    "for counts in y:\n",
    "    if counts>1000:\n",
    "        final_y.append(1000)\n",
    "    else:\n",
    "        final_y.append(counts)    "
   ]
  },
  {
   "cell_type": "code",
   "execution_count": 39,
   "id": "d92339a5",
   "metadata": {
    "scrolled": false
   },
   "outputs": [
    {
     "data": {
      "image/png": "[encoded data removed]",
      "text/plain": [
       "<Figure size 1200x800 with 1 Axes>"
      ]
     },
     "metadata": {},
     "output_type": "display_data"
    }
   ],
   "source": [
    "from matplotlib import pyplot as plt\n",
    "import numpy as np\n",
    "\n",
    "fig = plt.figure(figsize=(12, 8))\n",
    "ax = fig.add_subplot(1, 1, 1)\n",
    "width = 0.7\n",
    "ind = np.arange(len(final_y))\n",
    "ax.barh(ind, final_y, width, color=\"skyblue\")\n",
    "ax.set_yticks(ind)\n",
    "ax.set_yticklabels(eng_account, fontsize=8, minor=False)\n",
    "\n",
    "plt.title('Number of account subjects')\n",
    "for i, counts in enumerate(final_y):\n",
    "    if counts == 1000:\n",
    "        plt.text(960, i, y[i], ha='left', color='red', va='baseline', fontsize=10)\n",
    "\n",
    "plt.ylabel('Account subject')\n",
    "plt.xlabel('Counts')\n",
    "plt.xlim([0, 1000])\n",
    "plt.xticks(list(range(0, 1100, 100)))\n",
    "# plt.show()\n",
    "plt.savefig('./Account_graph.png')"
   ]
  },
  {
   "cell_type": "code",
   "execution_count": null,
   "id": "46ddb267",
   "metadata": {},
   "outputs": [],
   "source": [
    "df.to_csv(\"./0530합본_new.csv\", index=False, encoding='utf-8-sig')"
   ]
  },
  {
   "cell_type": "code",
   "execution_count": null,
   "id": "c07ef24f",
   "metadata": {
    "scrolled": true
   },
   "outputs": [],
   "source": [
    "df1 = df[['ClassificationCode_invoicee', 'ClassificationCode_invoicer', '품명', '상대계정', 'new', '상대계정_new']]"
   ]
  },
  {
   "cell_type": "code",
   "execution_count": null,
   "id": "9abcb3a2",
   "metadata": {},
   "outputs": [],
   "source": [
    "df1.to_csv(\"./0530학습용_종목품명.csv\", index=False, encoding='utf-8-sig')"
   ]
  },
  {
   "cell_type": "code",
   "execution_count": null,
   "id": "9276dced",
   "metadata": {},
   "outputs": [],
   "source": []
  }
 ],
 "metadata": {
  "kernelspec": {
   "display_name": "nlp",
   "language": "python",
   "name": "nlp"
  },
  "language_info": {
   "codemirror_mode": {
    "name": "ipython",
    "version": 3
   },
   "file_extension": ".py",
   "mimetype": "text/x-python",
   "name": "python",
   "nbconvert_exporter": "python",
   "pygments_lexer": "ipython3",
   "version": "3.7.15"
  }
 },
 "nbformat": 4,
 "nbformat_minor": 5
}
